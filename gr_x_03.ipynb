{
  "nbformat": 4,
  "nbformat_minor": 0,
  "metadata": {
    "colab": {
      "name": "gr_x_03.ipynb",
      "provenance": [],
      "collapsed_sections": []
    },
    "kernelspec": {
      "name": "python3",
      "display_name": "Python 3"
    },
    "language_info": {
      "name": "python"
    }
  },
  "cells": [
    {
      "cell_type": "code",
      "source": [
        "import numpy as np\n",
        "import pandas as pd\n",
        "import matplotlib.pyplot as pp"
      ],
      "metadata": {
        "id": "J7tTGNWMmbx7"
      },
      "execution_count": 1,
      "outputs": []
    },
    {
      "cell_type": "code",
      "source": [
        "g_x = pd.read_csv(\"/content/train_v9rqX0R.csv\")"
      ],
      "metadata": {
        "id": "LbU6pQjAobul"
      },
      "execution_count": 2,
      "outputs": []
    },
    {
      "cell_type": "code",
      "execution_count": 3,
      "metadata": {
        "id": "tH8tL3XimY_d"
      },
      "outputs": [],
      "source": [
        "\n",
        "ta_01 = len (  g_x[(g_x.Item_Type =='Dairy' )&(g_x.Outlet_Size=='Small')] )\n",
        "ta_02 = len (  g_x[(g_x.Item_Type =='Soft Drinks')&(g_x.Outlet_Size=='Small')] )\n",
        "ta_03 = len (  g_x[(g_x.Item_Type =='Meat' )&(g_x.Outlet_Size=='Small')] )\n",
        "ta_04 = len ( g_x[(g_x.Item_Type =='Fruits and Vegetables')&(g_x.Outlet_Size=='Small')] )\n",
        "ta_05 = len ( g_x[(g_x.Item_Type =='Household')&(g_x.Outlet_Size=='Small')] )\n",
        "ta_06 = len (  g_x[(g_x.Item_Type =='Baking Goods')&(g_x.Outlet_Size=='Small')] )\n",
        "ta_07 = len ( g_x[(g_x.Item_Type =='Snack Foods' )&(g_x.Outlet_Size=='Small')] )\n",
        "ta_08 = len ( g_x[(g_x.Item_Type =='Frozen Foods' )&(g_x.Outlet_Size=='Small')] )\n",
        "ta_09 = len ( g_x[(g_x.Item_Type =='Breakfast' )&(g_x.Outlet_Size=='Small')] )\n",
        "ta_10 = len ( g_x[(g_x.Item_Type =='Health and Hygiene' )&(g_x.Outlet_Size=='Small')] )\n",
        "ta_11 = len ( g_x[(g_x.Item_Type =='Hard Drinks' )&(g_x.Outlet_Size=='Small')] )\n",
        "ta_12 = len ( g_x[(g_x.Item_Type =='Canned')&(g_x.Outlet_Size=='Small')] )\n",
        "ta_13 = len ( g_x[(g_x.Item_Type =='Breads')&(g_x.Outlet_Size=='Small')] )\n",
        "ta_14 = len ( g_x[(g_x.Item_Type =='Starchy Foods')&(g_x.Outlet_Size=='Small')] )\n",
        "ta_15 = len ( g_x[(g_x.Item_Type =='Others' )&(g_x.Outlet_Size=='Small')] )\n",
        "ta_16 = len ( g_x[(g_x.Item_Type =='Seafood' )&(g_x.Outlet_Size=='Small')] )\n"
      ]
    },
    {
      "cell_type": "code",
      "source": [
        "pp.bar('Dairy',ta_01)\n",
        "pp.bar('Soft Drinks',ta_02)\n",
        "pp.bar('Meat',ta_03)\n",
        "pp.bar('Fruits and Vegetables',ta_04)\n",
        "pp.bar('Household',ta_05)\n",
        "pp.bar('Baking Goods',ta_06)\n",
        "pp.bar('Snack Foods',ta_07)\n",
        "pp.bar('Frozen Foods',ta_08)\n",
        "pp.bar('Breakfast',ta_09)\n",
        "pp.bar('Health and Hygiene',ta_10)\n",
        "pp.bar('Hard Drinks',ta_11)\n",
        "pp.bar('Canned',ta_12)\n",
        "pp.bar('Breads',ta_13)\n",
        "pp.bar('Starchy Foods',ta_14)\n",
        "pp.bar('Others',ta_15)\n",
        "pp.bar('Seafood',ta_16)\n",
        "pp.plot()\n",
        "pp.show()"
      ],
      "metadata": {
        "colab": {
          "base_uri": "https://localhost:8080/",
          "height": 268
        },
        "id": "D7skBDMzma6t",
        "outputId": "6a53b47f-95fc-433e-bc10-2a00c3d03426"
      },
      "execution_count": 4,
      "outputs": [
        {
          "output_type": "display_data",
          "data": {
            "text/plain": [
              "<Figure size 432x288 with 1 Axes>"
            ],
            "image/png": "[encoded data removed]"
          },
          "metadata": {
            "needs_background": "light"
          }
        }
      ]
    },
    {
      "cell_type": "code",
      "source": [
        ""
      ],
      "metadata": {
        "id": "3Ye5ZIisqvpw"
      },
      "execution_count": null,
      "outputs": []
    }
  ]
}