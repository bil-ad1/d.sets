{
  "nbformat": 4,
  "nbformat_minor": 0,
  "metadata": {
    "colab": {
      "name": "arx-01.ipynb",
      "provenance": [],
      "collapsed_sections": []
    },
    "kernelspec": {
      "name": "python3",
      "display_name": "Python 3"
    },
    "language_info": {
      "name": "python"
    }
  },
  "cells": [
    {
      "cell_type": "code",
      "execution_count": 1,
      "metadata": {
        "id": "jfKRUscNor3G"
      },
      "outputs": [],
      "source": [
        "import numpy as np\n",
        "import pandas as pd\n",
        "import matplotlib.pyplot as pp"
      ]
    },
    {
      "cell_type": "code",
      "source": [
        "import seaborn as sb"
      ],
      "metadata": {
        "id": "apmc1m9po8Ar"
      },
      "execution_count": 2,
      "outputs": []
    },
    {
      "cell_type": "code",
      "source": [
        "arz = pd.read_csv(\"/content/drive/MyDrive/d.sets/Airlines.csv\")"
      ],
      "metadata": {
        "id": "MVNbjjOVo-R4"
      },
      "execution_count": 3,
      "outputs": []
    },
    {
      "cell_type": "code",
      "source": [
        "arz.info()"
      ],
      "metadata": {
        "colab": {
          "base_uri": "https://localhost:8080/"
        },
        "id": "Swr-m91vpGGS",
        "outputId": "ad932d5f-3d30-4e35-fd6a-a2b1c5273915"
      },
      "execution_count": 4,
      "outputs": [
        {
          "output_type": "stream",
          "name": "stdout",
          "text": [
            "<class 'pandas.core.frame.DataFrame'>\n",
            "RangeIndex: 539383 entries, 0 to 539382\n",
            "Data columns (total 9 columns):\n",
            " #   Column       Non-Null Count   Dtype \n",
            "---  ------       --------------   ----- \n",
            " 0   id           539383 non-null  int64 \n",
            " 1   Airline      539383 non-null  object\n",
            " 2   Flight       539383 non-null  int64 \n",
            " 3   AirportFrom  539383 non-null  object\n",
            " 4   AirportTo    539383 non-null  object\n",
            " 5   DayOfWeek    539383 non-null  int64 \n",
            " 6   Time         539383 non-null  int64 \n",
            " 7   Length       539383 non-null  int64 \n",
            " 8   Delay        539383 non-null  int64 \n",
            "dtypes: int64(6), object(3)\n",
            "memory usage: 37.0+ MB\n"
          ]
        }
      ]
    },
    {
      "cell_type": "code",
      "source": [
        "arz.Airline.unique()"
      ],
      "metadata": {
        "colab": {
          "base_uri": "https://localhost:8080/"
        },
        "id": "pJY7Ae5mpIzg",
        "outputId": "f1698f89-6721-48bb-9fd2-dc5ecbfdecd0"
      },
      "execution_count": 5,
      "outputs": [
        {
          "output_type": "execute_result",
          "data": {
            "text/plain": [
              "array(['CO', 'US', 'AA', 'AS', 'DL', 'B6', 'HA', 'OO', '9E', 'OH', 'EV',\n",
              "       'XE', 'YV', 'UA', 'MQ', 'FL', 'F9', 'WN'], dtype=object)"
            ]
          },
          "metadata": {},
          "execution_count": 5
        }
      ]
    },
    {
      "cell_type": "code",
      "source": [
        "arz.AirportFrom.unique()"
      ],
      "metadata": {
        "colab": {
          "base_uri": "https://localhost:8080/"
        },
        "id": "mTQNdPOupV61",
        "outputId": "0a151b7c-8394-4903-873f-d3aee21bc6bb"
      },
      "execution_count": 6,
      "outputs": [
        {
          "output_type": "execute_result",
          "data": {
            "text/plain": [
              "array(['SFO', 'PHX', 'LAX', 'ANC', 'LAS', 'SLC', 'DEN', 'ONT', 'FAI',\n",
              "       'BQN', 'PSE', 'HNL', 'BIS', 'IYK', 'EWR', 'BOS', 'MKE', 'GFK',\n",
              "       'OMA', 'GSO', 'LMT', 'SEA', 'MCO', 'TPA', 'DLH', 'MSP', 'FAR',\n",
              "       'MFE', 'MSY', 'VPS', 'BWI', 'MAF', 'LWS', 'RST', 'ALB', 'DSM',\n",
              "       'CHS', 'MSN', 'JAX', 'SAT', 'PNS', 'BHM', 'LIT', 'SAV', 'BNA',\n",
              "       'ICT', 'ECP', 'DHN', 'MGM', 'CAE', 'PWM', 'ACV', 'EKO', 'PHL',\n",
              "       'ATL', 'PDX', 'RIC', 'BTR', 'HRL', 'MYR', 'TUS', 'SBN', 'CAK',\n",
              "       'TVC', 'CLE', 'ORD', 'DAY', 'MFR', 'BTV', 'TLH', 'TYS', 'DFW',\n",
              "       'FLL', 'AUS', 'CHA', 'CMH', 'LRD', 'BRO', 'CRP', 'LAN', 'PVD',\n",
              "       'FWA', 'JFK', 'LGA', 'OKC', 'PIT', 'PBI', 'ORF', 'DCA', 'AEX',\n",
              "       'SYR', 'SHV', 'VLD', 'BDL', 'FAT', 'BZN', 'RDM', 'LFT', 'IPL',\n",
              "       'EAU', 'ERI', 'BUF', 'IAH', 'MCI', 'AGS', 'ABI', 'GRR', 'LBB',\n",
              "       'CLT', 'LEX', 'MBS', 'MOD', 'AMA', 'SGF', 'AZO', 'ABE', 'SWF',\n",
              "       'BGM', 'AVP', 'FNT', 'GSP', 'ATW', 'ITH', 'TUL', 'COS', 'ELP',\n",
              "       'ABQ', 'SMF', 'STL', 'IAD', 'DTW', 'RDU', 'RSW', 'OAK', 'ROC',\n",
              "       'IND', 'CVG', 'MDW', 'SDF', 'ABY', 'TRI', 'XNA', 'ROA', 'MLI',\n",
              "       'LYH', 'EVV', 'HPN', 'FAY', 'EWN', 'CSG', 'GPT', 'MLU', 'MOB',\n",
              "       'OAJ', 'CHO', 'ILM', 'BMI', 'PHF', 'ACY', 'JAN', 'CID', 'GRK',\n",
              "       'HOU', 'CRW', 'HTS', 'PSC', 'BOI', 'SBP', 'CLD', 'PSP', 'SBA',\n",
              "       'MEM', 'MRY', 'GEG', 'RDD', 'PAH', 'CMX', 'SPI', 'EUG', 'CIC',\n",
              "       'PIH', 'SGU', 'COD', 'MIA', 'MHT', 'GRB', 'FSD', 'SJU', 'AVL',\n",
              "       'BFL', 'RAP', 'DRO', 'PIA', 'OGG', 'SIT', 'TXK', 'RNO', 'DAL',\n",
              "       'SCE', 'MEI', 'MDT', 'FCA', 'SJC', 'KOA', 'PLN', 'SAN', 'GNV',\n",
              "       'HLN', 'GJT', 'CPR', 'FSM', 'CMI', 'GTF', 'HDN', 'ITO', 'MTJ',\n",
              "       'HSV', 'BTM', 'BIL', 'COU', 'MSO', 'SMX', 'TWF', 'ISP', 'GCC',\n",
              "       'LIH', 'LNK', 'DAB', 'SNA', 'MQT', 'LGB', 'CWA', 'LSE', 'BUR',\n",
              "       'ACT', 'MHK', 'MOT', 'IDA', 'SUN', 'GTR', 'MLB', 'SRQ', 'JAC',\n",
              "       'ASE', 'LCH', 'JNU', 'ROW', 'BQK', 'YUM', 'FLG', 'EGE', 'GUC',\n",
              "       'EYW', 'RKS', 'BGR', 'ELM', 'ADQ', 'OTZ', 'OTH', 'STT', 'KTN',\n",
              "       'BET', 'SJT', 'CDC', 'CEC', 'SPS', 'SCC', 'STX', 'OME', 'MKG',\n",
              "       'WRG', 'TYR', 'BRW', 'GGG', 'PSG', 'BKG', 'YAK', 'CLL', 'SAF',\n",
              "       'CYS', 'LWB', 'CDV', 'FLO', 'BLI', 'DBQ', 'TOL', 'UTM', 'PIE',\n",
              "       'ADK', 'ABR', 'TEX', 'MMH', 'GUM'], dtype=object)"
            ]
          },
          "metadata": {},
          "execution_count": 6
        }
      ]
    },
    {
      "cell_type": "code",
      "source": [
        "arz.AirportTo.unique()"
      ],
      "metadata": {
        "colab": {
          "base_uri": "https://localhost:8080/"
        },
        "id": "r4BegrUZpeY_",
        "outputId": "c8b371c8-46b4-4180-98bd-3c1b942c0b66"
      },
      "execution_count": 7,
      "outputs": [
        {
          "output_type": "execute_result",
          "data": {
            "text/plain": [
              "array(['IAH', 'CLT', 'DFW', 'SEA', 'MSP', 'DTW', 'ORD', 'ATL', 'PDX',\n",
              "       'JFK', 'SLC', 'HNL', 'PHX', 'MCO', 'OGG', 'LAX', 'KOA', 'ITO',\n",
              "       'SFO', 'MIA', 'IAD', 'SMF', 'PHL', 'LIH', 'DEN', 'LGA', 'MEM',\n",
              "       'CVG', 'YUM', 'CWA', 'MKE', 'BQN', 'FAI', 'LAS', 'ANC', 'BOS',\n",
              "       'LGB', 'FLL', 'SJU', 'EWR', 'DCA', 'BWI', 'RDU', 'MCI', 'TYS',\n",
              "       'SAN', 'ONT', 'OAK', 'MDW', 'BNA', 'DAL', 'CLE', 'JAX', 'JNU',\n",
              "       'RNO', 'ELP', 'SAT', 'OTZ', 'MBS', 'BDL', 'STL', 'HOU', 'AUS',\n",
              "       'SNA', 'SJC', 'LIT', 'TUS', 'TUL', 'CMH', 'LAN', 'IND', 'AMA',\n",
              "       'CRP', 'PIT', 'RKS', 'FWA', 'TPA', 'PBI', 'JAN', 'DSM', 'ADQ',\n",
              "       'GRB', 'PVD', 'ABQ', 'SDF', 'RSW', 'MSY', 'BUR', 'BOI', 'TLH',\n",
              "       'BHM', 'ACV', 'ORF', 'BET', 'KTN', 'RIC', 'SRQ', 'BTR', 'XNA',\n",
              "       'MHT', 'GRR', 'SBN', 'SBA', 'ROA', 'CID', 'GPT', 'MFR', 'SGU',\n",
              "       'HPN', 'OMA', 'OTH', 'GSP', 'LMT', 'BUF', 'MSN', 'BFL', 'CAE',\n",
              "       'HRL', 'OKC', 'SYR', 'COS', 'BTV', 'CDC', 'SCC', 'DAY', 'SJT',\n",
              "       'TVC', 'ROC', 'ISP', 'MRY', 'SBP', 'MLI', 'MOB', 'CIC', 'SAV',\n",
              "       'FAT', 'EKO', 'GEG', 'ECP', 'LFT', 'SUN', 'HSV', 'SHV', 'CHA',\n",
              "       'CAK', 'BZN', 'MAF', 'GSO', 'MDT', 'PHF', 'ICT', 'AZO', 'RAP',\n",
              "       'CHS', 'CLD', 'MKG', 'VPS', 'PIH', 'ATW', 'AGS', 'PNS', 'BIL',\n",
              "       'SPI', 'FAR', 'CPR', 'PIA', 'SPS', 'TWF', 'LBB', 'ALB', 'CEC',\n",
              "       'DRO', 'GJT', 'GNV', 'RST', 'AVL', 'GRK', 'PSP', 'LEX', 'TRI',\n",
              "       'SGF', 'FSM', 'RDD', 'OME', 'MFE', 'LSE', 'BMI', 'MYR', 'FAY',\n",
              "       'FSD', 'EUG', 'MGM', 'EVV', 'MLB', 'FNT', 'STT', 'WRG', 'ABE',\n",
              "       'BIS', 'MOT', 'MLU', 'GFK', 'RDM', 'COU', 'LRD', 'PSC', 'MOD',\n",
              "       'PWM', 'ILM', 'ABY', 'CRW', 'TXK', 'BRO', 'BRW', 'EYW', 'DAB',\n",
              "       'ROW', 'ABI', 'EAU', 'TYR', 'MSO', 'FLG', 'CSG', 'VLD', 'DHN',\n",
              "       'OAJ', 'AEX', 'CHO', 'SAF', 'GGG', 'FCA', 'ASE', 'BKG', 'MHK',\n",
              "       'LNK', 'MQT', 'YAK', 'GTR', 'SMX', 'SWF', 'ITH', 'AVP', 'ELM',\n",
              "       'BGM', 'SIT', 'PSG', 'CYS', 'CLL', 'SCE', 'LWB', 'LCH', 'GCC',\n",
              "       'IYK', 'LWS', 'COD', 'HLN', 'BQK', 'GTF', 'DLH', 'BTM', 'EGE',\n",
              "       'IDA', 'JAC', 'HDN', 'MTJ', 'CMX', 'CMI', 'CDV', 'LYH', 'ACT',\n",
              "       'STX', 'IPL', 'PAH', 'HTS', 'MEI', 'BLI', 'ERI', 'EWN', 'FLO',\n",
              "       'ACY', 'DBQ', 'TOL', 'GUC', 'PLN', 'BGR', 'PSE', 'PIE', 'UTM',\n",
              "       'ADK', 'ABR', 'TEX', 'MMH', 'GUM'], dtype=object)"
            ]
          },
          "metadata": {},
          "execution_count": 7
        }
      ]
    },
    {
      "cell_type": "code",
      "source": [
        "sb.barplot(x='Airline',y='Delay',data=arz)"
      ],
      "metadata": {
        "colab": {
          "base_uri": "https://localhost:8080/",
          "height": 296
        },
        "id": "2QgXdfpxpxtE",
        "outputId": "0fd3df71-37ec-4df4-f0e6-f2af00c14e77"
      },
      "execution_count": 9,
      "outputs": [
        {
          "output_type": "execute_result",
          "data": {
            "text/plain": [
              "<matplotlib.axes._subplots.AxesSubplot at 0x7f242ff5c390>"
            ]
          },
          "metadata": {},
          "execution_count": 9
        },
        {
          "output_type": "display_data",
          "data": {
            "text/plain": [
              "<Figure size 432x288 with 1 Axes>"
            ],
            "image/png": "[encoded data removed]"
          },
          "metadata": {
            "needs_background": "light"
          }
        }
      ]
    },
    {
      "cell_type": "code",
      "source": [
        "sb.barplot(x='AirportFrom',y='Delay',data=arz)"
      ],
      "metadata": {
        "colab": {
          "base_uri": "https://localhost:8080/",
          "height": 296
        },
        "id": "rb25bOKBqNOV",
        "outputId": "2ce6f791-64fc-4850-f829-f8df8210891f"
      },
      "execution_count": 10,
      "outputs": [
        {
          "output_type": "execute_result",
          "data": {
            "text/plain": [
              "<matplotlib.axes._subplots.AxesSubplot at 0x7f242f5da990>"
            ]
          },
          "metadata": {},
          "execution_count": 10
        },
        {
          "output_type": "display_data",
          "data": {
            "text/plain": [
              "<Figure size 432x288 with 1 Axes>"
            ],
            "image/png": "[encoded data removed]"
          },
          "metadata": {
            "needs_background": "light"
          }
        }
      ]
    },
    {
      "cell_type": "code",
      "source": [
        "sb.barplot(x='AirportTo',y='Delay',data=arz)"
      ],
      "metadata": {
        "colab": {
          "base_uri": "https://localhost:8080/",
          "height": 296
        },
        "id": "l8OSuNGqrixF",
        "outputId": "4b995657-ca84-4c6d-947c-aee7e06d8173"
      },
      "execution_count": 11,
      "outputs": [
        {
          "output_type": "execute_result",
          "data": {
            "text/plain": [
              "<matplotlib.axes._subplots.AxesSubplot at 0x7f242ebcfb90>"
            ]
          },
          "metadata": {},
          "execution_count": 11
        },
        {
          "output_type": "display_data",
          "data": {
            "text/plain": [
              "<Figure size 432x288 with 1 Axes>"
            ],
            "image/png": "[encoded data removed]"
          },
          "metadata": {
            "needs_background": "light"
          }
        }
      ]
    },
    {
      "cell_type": "code",
      "source": [
        "sb.displot(x='Airline',y='Delay',data=arz)"
      ],
      "metadata": {
        "colab": {
          "base_uri": "https://localhost:8080/",
          "height": 386
        },
        "id": "on6x5WYiwzhN",
        "outputId": "a077a4c3-7329-4643-c88a-95d41e706965"
      },
      "execution_count": 16,
      "outputs": [
        {
          "output_type": "execute_result",
          "data": {
            "text/plain": [
              "<seaborn.axisgrid.FacetGrid at 0x7f242ea8a690>"
            ]
          },
          "metadata": {},
          "execution_count": 16
        },
        {
          "output_type": "display_data",
          "data": {
            "text/plain": [
              "<Figure size 360x360 with 1 Axes>"
            ],
            "image/png": "[encoded data removed]"
          },
          "metadata": {
            "needs_background": "light"
          }
        }
      ]
    },
    {
      "cell_type": "code",
      "source": [
        "sb.displot(x='Airline',y='AirportTo',data=arz)"
      ],
      "metadata": {
        "colab": {
          "base_uri": "https://localhost:8080/",
          "height": 386
        },
        "id": "zXG7OxKvxPI-",
        "outputId": "3ae8b913-9b9f-44a4-e755-813cf80726f5"
      },
      "execution_count": 17,
      "outputs": [
        {
          "output_type": "execute_result",
          "data": {
            "text/plain": [
              "<seaborn.axisgrid.FacetGrid at 0x7f242fef9450>"
            ]
          },
          "metadata": {},
          "execution_count": 17
        },
        {
          "output_type": "display_data",
          "data": {
            "text/plain": [
              "<Figure size 360x360 with 1 Axes>"
            ],
            "image/png": "[encoded data removed]"
          },
          "metadata": {
            "needs_background": "light"
          }
        }
      ]
    },
    {
      "cell_type": "code",
      "source": [
        "sb.displot(x='AirportTo',y='AirportFrom',data=arz)"
      ],
      "metadata": {
        "colab": {
          "base_uri": "https://localhost:8080/",
          "height": 386
        },
        "id": "2kB0i0nTx1s-",
        "outputId": "7944ef55-4f96-4eb4-9586-1a4198087f7b"
      },
      "execution_count": 18,
      "outputs": [
        {
          "output_type": "execute_result",
          "data": {
            "text/plain": [
              "<seaborn.axisgrid.FacetGrid at 0x7f242b47c690>"
            ]
          },
          "metadata": {},
          "execution_count": 18
        },
        {
          "output_type": "display_data",
          "data": {
            "text/plain": [
              "<Figure size 360x360 with 1 Axes>"
            ],
            "image/png": "[encoded data removed]"
          },
          "metadata": {
            "needs_background": "light"
          }
        }
      ]
    },
    {
      "cell_type": "code",
      "source": [
        "arz.Flight.unique()"
      ],
      "metadata": {
        "colab": {
          "base_uri": "https://localhost:8080/"
        },
        "id": "nKoYjnaWyLQL",
        "outputId": "d0268090-ec2c-4f52-e257-82d32af9d8d2"
      },
      "execution_count": 19,
      "outputs": [
        {
          "output_type": "execute_result",
          "data": {
            "text/plain": [
              "array([ 269, 1558, 2400, ..., 3413, 3184, 3387])"
            ]
          },
          "metadata": {},
          "execution_count": 19
        }
      ]
    },
    {
      "cell_type": "code",
      "source": [
        "len(arz.Flight.unique())"
      ],
      "metadata": {
        "colab": {
          "base_uri": "https://localhost:8080/"
        },
        "id": "3LLIF_V51IPq",
        "outputId": "ea51f7e6-71e7-4a81-cde6-4b9ea7bad4e4"
      },
      "execution_count": 20,
      "outputs": [
        {
          "output_type": "execute_result",
          "data": {
            "text/plain": [
              "6585"
            ]
          },
          "metadata": {},
          "execution_count": 20
        }
      ]
    },
    {
      "cell_type": "code",
      "source": [
        "list(arz.Flight.unique())"
      ],
      "metadata": {
        "colab": {
          "base_uri": "https://localhost:8080/"
        },
        "id": "gcMczTDQ1MmS",
        "outputId": "4445809a-b94c-4eac-b9c7-e4dffae6de55"
      },
      "execution_count": 21,
      "outputs": [
        {
          "output_type": "execute_result",
          "data": {
            "text/plain": [
              "[269,\n",
              " 1558,\n",
              " 2400,\n",
              " 2466,\n",
              " 108,\n",
              " 1094,\n",
              " 1768,\n",
              " 2722,\n",
              " 2606,\n",
              " 2538,\n",
              " 223,\n",
              " 1646,\n",
              " 2055,\n",
              " 2408,\n",
              " 132,\n",
              " 498,\n",
              " 98,\n",
              " 1496,\n",
              " 1450,\n",
              " 507,\n",
              " 128,\n",
              " 2223,\n",
              " 112,\n",
              " 17,\n",
              " 122,\n",
              " 114,\n",
              " 766,\n",
              " 768,\n",
              " 206,\n",
              " 4746,\n",
              " 6466,\n",
              " 1011,\n",
              " 1983,\n",
              " 6900,\n",
              " 3975,\n",
              " 102,\n",
              " 4829,\n",
              " 6338,\n",
              " 6505,\n",
              " 149,\n",
              " 1640,\n",
              " 908,\n",
              " 106,\n",
              " 3854,\n",
              " 1276,\n",
              " 4651,\n",
              " 1585,\n",
              " 222,\n",
              " 4966,\n",
              " 1521,\n",
              " 2827,\n",
              " 4719,\n",
              " 3702,\n",
              " 3775,\n",
              " 3886,\n",
              " 1711,\n",
              " 611,\n",
              " 1143,\n",
              " 1511,\n",
              " 1518,\n",
              " 1698,\n",
              " 1842,\n",
              " 1972,\n",
              " 2054,\n",
              " 2112,\n",
              " 2306,\n",
              " 2711,\n",
              " 2995,\n",
              " 4940,\n",
              " 5014,\n",
              " 5044,\n",
              " 5117,\n",
              " 5393,\n",
              " 5532,\n",
              " 7108,\n",
              " 6917,\n",
              " 7781,\n",
              " 1289,\n",
              " 1420,\n",
              " 1732,\n",
              " 347,\n",
              " 913,\n",
              " 2263,\n",
              " 3024,\n",
              " 2605,\n",
              " 103,\n",
              " 576,\n",
              " 6644,\n",
              " 7294,\n",
              " 3661,\n",
              " 3725,\n",
              " 3804,\n",
              " 674,\n",
              " 728,\n",
              " 463,\n",
              " 6423,\n",
              " 6698,\n",
              " 2865,\n",
              " 7101,\n",
              " 3998,\n",
              " 4196,\n",
              " 214,\n",
              " 2123,\n",
              " 2597,\n",
              " 2626,\n",
              " 684,\n",
              " 5583,\n",
              " 4563,\n",
              " 2616,\n",
              " 3006,\n",
              " 3015,\n",
              " 5970,\n",
              " 3659,\n",
              " 3862,\n",
              " 3949,\n",
              " 4143,\n",
              " 1141,\n",
              " 1297,\n",
              " 2320,\n",
              " 1677,\n",
              " 1727,\n",
              " 240,\n",
              " 278,\n",
              " 633,\n",
              " 1095,\n",
              " 1112,\n",
              " 1506,\n",
              " 1580,\n",
              " 2481,\n",
              " 2710,\n",
              " 2939,\n",
              " 5142,\n",
              " 5218,\n",
              " 5233,\n",
              " 5362,\n",
              " 5501,\n",
              " 6264,\n",
              " 6549,\n",
              " 6407,\n",
              " 6647,\n",
              " 6925,\n",
              " 6964,\n",
              " 1423,\n",
              " 2919,\n",
              " 5951,\n",
              " 6480,\n",
              " 6843,\n",
              " 756,\n",
              " 3099,\n",
              " 3718,\n",
              " 107,\n",
              " 1248,\n",
              " 1985,\n",
              " 2387,\n",
              " 2405,\n",
              " 734,\n",
              " 5165,\n",
              " 331,\n",
              " 2734,\n",
              " 2796,\n",
              " 3014,\n",
              " 3332,\n",
              " 3632,\n",
              " 3781,\n",
              " 3842,\n",
              " 3892,\n",
              " 4013,\n",
              " 6498,\n",
              " 6629,\n",
              " 4391,\n",
              " 218,\n",
              " 6921,\n",
              " 3935,\n",
              " 3955,\n",
              " 4200,\n",
              " 4274,\n",
              " 735,\n",
              " 377,\n",
              " 202,\n",
              " 2864,\n",
              " 6262,\n",
              " 6414,\n",
              " 7014,\n",
              " 3668,\n",
              " 3724,\n",
              " 3755,\n",
              " 3757,\n",
              " 3795,\n",
              " 3845,\n",
              " 3850,\n",
              " 3871,\n",
              " 3875,\n",
              " 3893,\n",
              " 3923,\n",
              " 3957,\n",
              " 3985,\n",
              " 4008,\n",
              " 4026,\n",
              " 4058,\n",
              " 4239,\n",
              " 4272,\n",
              " 4324,\n",
              " 1056,\n",
              " 1140,\n",
              " 1215,\n",
              " 1225,\n",
              " 1406,\n",
              " 1584,\n",
              " 1596,\n",
              " 1602,\n",
              " 1615,\n",
              " 1631,\n",
              " 1670,\n",
              " 1755,\n",
              " 1839,\n",
              " 1843,\n",
              " 1878,\n",
              " 1921,\n",
              " 1965,\n",
              " 1994,\n",
              " 2037,\n",
              " 2060,\n",
              " 2103,\n",
              " 2203,\n",
              " 2299,\n",
              " 2301,\n",
              " 445,\n",
              " 526,\n",
              " 528,\n",
              " 548,\n",
              " 552,\n",
              " 654,\n",
              " 708,\n",
              " 454,\n",
              " 55,\n",
              " 600,\n",
              " 62,\n",
              " 81,\n",
              " 1001,\n",
              " 1133,\n",
              " 1224,\n",
              " 155,\n",
              " 162,\n",
              " 1695,\n",
              " 19,\n",
              " 247,\n",
              " 370,\n",
              " 371,\n",
              " 442,\n",
              " 45,\n",
              " 52,\n",
              " 68,\n",
              " 701,\n",
              " 1045,\n",
              " 1428,\n",
              " 1617,\n",
              " 1810,\n",
              " 1815,\n",
              " 308,\n",
              " 469,\n",
              " 759,\n",
              " 89,\n",
              " 1084,\n",
              " 1106,\n",
              " 1157,\n",
              " 1181,\n",
              " 1249,\n",
              " 1301,\n",
              " 1371,\n",
              " 1401,\n",
              " 1445,\n",
              " 1447,\n",
              " 1504,\n",
              " 1625,\n",
              " 1767,\n",
              " 1831,\n",
              " 1889,\n",
              " 1949,\n",
              " 2205,\n",
              " 2280,\n",
              " 2437,\n",
              " 2480,\n",
              " 2525,\n",
              " 2530,\n",
              " 2581,\n",
              " 2806,\n",
              " 2816,\n",
              " 725,\n",
              " 4942,\n",
              " 4946,\n",
              " 4979,\n",
              " 4998,\n",
              " 5011,\n",
              " 5027,\n",
              " 5079,\n",
              " 5141,\n",
              " 5169,\n",
              " 5265,\n",
              " 5275,\n",
              " 5313,\n",
              " 5316,\n",
              " 5366,\n",
              " 5374,\n",
              " 5387,\n",
              " 5435,\n",
              " 5460,\n",
              " 5479,\n",
              " 5491,\n",
              " 5507,\n",
              " 5564,\n",
              " 5605,\n",
              " 7070,\n",
              " 7075,\n",
              " 7086,\n",
              " 7097,\n",
              " 7100,\n",
              " 7116,\n",
              " 7323,\n",
              " 7378,\n",
              " 225,\n",
              " 143,\n",
              " 183,\n",
              " 200,\n",
              " 254,\n",
              " 281,\n",
              " 359,\n",
              " 429,\n",
              " 557,\n",
              " 630,\n",
              " 726,\n",
              " 738,\n",
              " 84,\n",
              " 901,\n",
              " 912,\n",
              " 942,\n",
              " 967,\n",
              " 2731,\n",
              " 2750,\n",
              " 2963,\n",
              " 3256,\n",
              " 3265,\n",
              " 3280,\n",
              " 3325,\n",
              " 3357,\n",
              " 3372,\n",
              " 3450,\n",
              " 3512,\n",
              " 3650,\n",
              " 3736,\n",
              " 3748,\n",
              " 3768,\n",
              " 3807,\n",
              " 3853,\n",
              " 3884,\n",
              " 3908,\n",
              " 3914,\n",
              " 3939,\n",
              " 4067,\n",
              " 4114,\n",
              " 4176,\n",
              " 4223,\n",
              " 4260,\n",
              " 4275,\n",
              " 4382,\n",
              " 4420,\n",
              " 4448,\n",
              " 4581,\n",
              " 4625,\n",
              " 4629,\n",
              " 4650,\n",
              " 4697,\n",
              " 6341,\n",
              " 6357,\n",
              " 6379,\n",
              " 6401,\n",
              " 6560,\n",
              " 6655,\n",
              " 6668,\n",
              " 4611,\n",
              " 4662,\n",
              " 4676,\n",
              " 4765,\n",
              " 4802,\n",
              " 4888,\n",
              " 6245,\n",
              " 6285,\n",
              " 6300,\n",
              " 6330,\n",
              " 6345,\n",
              " 6359,\n",
              " 6399,\n",
              " 6405,\n",
              " 6434,\n",
              " 6471,\n",
              " 6506,\n",
              " 6512,\n",
              " 6586,\n",
              " 6612,\n",
              " 6682,\n",
              " 6684,\n",
              " 6732,\n",
              " 6743,\n",
              " 6766,\n",
              " 6820,\n",
              " 6836,\n",
              " 6893,\n",
              " 6918,\n",
              " 6930,\n",
              " 6936,\n",
              " 6948,\n",
              " 6949,\n",
              " 6975,\n",
              " 6997,\n",
              " 7006,\n",
              " 7008,\n",
              " 7049,\n",
              " 7763,\n",
              " 7768,\n",
              " 7799,\n",
              " 189,\n",
              " 18,\n",
              " 201,\n",
              " 203,\n",
              " 226,\n",
              " 234,\n",
              " 257,\n",
              " 303,\n",
              " 32,\n",
              " 337,\n",
              " 376,\n",
              " 410,\n",
              " 468,\n",
              " 475,\n",
              " 494,\n",
              " 506,\n",
              " 510,\n",
              " 520,\n",
              " 532,\n",
              " 650,\n",
              " 668,\n",
              " 669,\n",
              " 705,\n",
              " 707,\n",
              " 736,\n",
              " 740,\n",
              " 90,\n",
              " 922,\n",
              " 1050,\n",
              " 1262,\n",
              " 1267,\n",
              " 1296,\n",
              " 1440,\n",
              " 1772,\n",
              " 1997,\n",
              " 2021,\n",
              " 2114,\n",
              " 2115,\n",
              " 2158,\n",
              " 2161,\n",
              " 270,\n",
              " 56,\n",
              " 578,\n",
              " 595,\n",
              " 652,\n",
              " 86,\n",
              " 952,\n",
              " 985,\n",
              " 1067,\n",
              " 109,\n",
              " 1357,\n",
              " 1851,\n",
              " 1929,\n",
              " 2529,\n",
              " 2643,\n",
              " 2891,\n",
              " 3061,\n",
              " 367,\n",
              " 3,\n",
              " 406,\n",
              " 425,\n",
              " 647,\n",
              " 702,\n",
              " 748,\n",
              " 799,\n",
              " 944,\n",
              " 2143,\n",
              " 2231,\n",
              " 2384,\n",
              " 2485,\n",
              " 2614,\n",
              " 2644,\n",
              " 2652,\n",
              " 2745,\n",
              " 2904,\n",
              " 2997,\n",
              " 3037,\n",
              " 3047,\n",
              " 3066,\n",
              " 3115,\n",
              " 5905,\n",
              " 5924,\n",
              " 5941,\n",
              " 5949,\n",
              " 5958,\n",
              " 5983,\n",
              " 5984,\n",
              " 5986,\n",
              " 5991,\n",
              " 5992,\n",
              " 2692,\n",
              " 2718,\n",
              " 2931,\n",
              " 7218,\n",
              " 7236,\n",
              " 7238,\n",
              " 7287,\n",
              " 742,\n",
              " 6965,\n",
              " 664,\n",
              " 6497,\n",
              " 6749,\n",
              " 6829,\n",
              " 7052,\n",
              " 59,\n",
              " 635,\n",
              " 675,\n",
              " 5902,\n",
              " 1320,\n",
              " 1943,\n",
              " 2006,\n",
              " 2783,\n",
              " 205,\n",
              " 6495,\n",
              " 6991,\n",
              " 261,\n",
              " 3698,\n",
              " 3964,\n",
              " 4227,\n",
              " 1002,\n",
              " 1331,\n",
              " 1425,\n",
              " 1938,\n",
              " 2127,\n",
              " 697,\n",
              " 730,\n",
              " 73,\n",
              " 1235,\n",
              " 451,\n",
              " 1093,\n",
              " 1471,\n",
              " 151,\n",
              " 1024,\n",
              " 1583,\n",
              " 1937,\n",
              " 1982,\n",
              " 2385,\n",
              " 2940,\n",
              " 5343,\n",
              " 290,\n",
              " 461,\n",
              " 3074,\n",
              " 3366,\n",
              " 3391,\n",
              " 3894,\n",
              " 4015,\n",
              " 4077,\n",
              " 6358,\n",
              " 6522,\n",
              " 3045,\n",
              " 4794,\n",
              " 6232,\n",
              " 6558,\n",
              " 6722,\n",
              " 6750,\n",
              " 524,\n",
              " 634,\n",
              " 486,\n",
              " 1136,\n",
              " 1426,\n",
              " 1461,\n",
              " 1481,\n",
              " 1687,\n",
              " 1824,\n",
              " 1945,\n",
              " 2557,\n",
              " 2885,\n",
              " 28,\n",
              " 317,\n",
              " 388,\n",
              " 673,\n",
              " 2528,\n",
              " 2696,\n",
              " 689,\n",
              " 6369,\n",
              " 6374,\n",
              " 7305,\n",
              " 3683,\n",
              " 1032,\n",
              " 1354,\n",
              " 1723,\n",
              " 2410,\n",
              " 301,\n",
              " 398,\n",
              " 488,\n",
              " 700,\n",
              " 817,\n",
              " 340,\n",
              " 561,\n",
              " 1453,\n",
              " 1597,\n",
              " 1661,\n",
              " 2782,\n",
              " 328,\n",
              " 5176,\n",
              " 5247,\n",
              " 5612,\n",
              " 7119,\n",
              " 7132,\n",
              " 453,\n",
              " 653,\n",
              " 411,\n",
              " 69,\n",
              " 989,\n",
              " 2743,\n",
              " 3612,\n",
              " 3685,\n",
              " 4076,\n",
              " 4117,\n",
              " 4152,\n",
              " 4414,\n",
              " 4419,\n",
              " 6340,\n",
              " 6360,\n",
              " 6397,\n",
              " 6686,\n",
              " 6770,\n",
              " 4531,\n",
              " 4681,\n",
              " 4682,\n",
              " 4713,\n",
              " 4729,\n",
              " 4756,\n",
              " 6364,\n",
              " 6465,\n",
              " 6674,\n",
              " 6716,\n",
              " 6826,\n",
              " 6850,\n",
              " 414,\n",
              " 732,\n",
              " 893,\n",
              " 966,\n",
              " 1223,\n",
              " 12,\n",
              " 1703,\n",
              " 590,\n",
              " 641,\n",
              " 1105,\n",
              " 1762,\n",
              " 3060,\n",
              " 3684,\n",
              " 3762,\n",
              " 379,\n",
              " 380,\n",
              " 682,\n",
              " 821,\n",
              " 2251,\n",
              " 2323,\n",
              " 2445,\n",
              " 2585,\n",
              " 5998,\n",
              " 2735,\n",
              " 2933,\n",
              " 6759,\n",
              " 791,\n",
              " 894,\n",
              " 6320,\n",
              " 871,\n",
              " 5950,\n",
              " 243,\n",
              " 796,\n",
              " 812,\n",
              " 3081,\n",
              " 3692,\n",
              " 3751,\n",
              " 3815,\n",
              " 3946,\n",
              " 3997,\n",
              " 4259,\n",
              " 4388,\n",
              " 4390,\n",
              " 2258,\n",
              " 1576,\n",
              " 1649,\n",
              " 1125,\n",
              " 1244,\n",
              " 1408,\n",
              " 1432,\n",
              " 1516,\n",
              " 1909,\n",
              " 1999,\n",
              " 2052,\n",
              " 2154,\n",
              " 2570,\n",
              " 2578,\n",
              " 4993,\n",
              " 5075,\n",
              " 5182,\n",
              " 5364,\n",
              " 5611,\n",
              " 7349,\n",
              " 192,\n",
              " 262,\n",
              " 319,\n",
              " 38,\n",
              " 496,\n",
              " 582,\n",
              " 656,\n",
              " 96,\n",
              " 2810,\n",
              " 3314,\n",
              " 3600,\n",
              " 4199,\n",
              " 4503,\n",
              " 4576,\n",
              " 4590,\n",
              " 4599,\n",
              " 6566,\n",
              " 6594,\n",
              " 4478,\n",
              " 4553,\n",
              " 4654,\n",
              " 6463,\n",
              " 6992,\n",
              " 33,\n",
              " 1433,\n",
              " 1517,\n",
              " 1626,\n",
              " 1812,\n",
              " 1155,\n",
              " 1199,\n",
              " 1400,\n",
              " 1628,\n",
              " 1636,\n",
              " 1657,\n",
              " 1915,\n",
              " 2377,\n",
              " 2706,\n",
              " 3756,\n",
              " 3915,\n",
              " 568,\n",
              " 685,\n",
              " 6,\n",
              " 840,\n",
              " 2046,\n",
              " 2072,\n",
              " 2175,\n",
              " 2535,\n",
              " 2853,\n",
              " 2946,\n",
              " 2631,\n",
              " 2924,\n",
              " 113,\n",
              " 472,\n",
              " 6314,\n",
              " 185,\n",
              " 671,\n",
              " 6438,\n",
              " 6568,\n",
              " 7037,\n",
              " 16,\n",
              " 484,\n",
              " 6621,\n",
              " 988,\n",
              " 3779,\n",
              " 3934,\n",
              " 4052,\n",
              " 4138,\n",
              " 1096,\n",
              " 1185,\n",
              " 1280,\n",
              " 1434,\n",
              " 1466,\n",
              " 2065,\n",
              " 2515,\n",
              " 971,\n",
              " 477,\n",
              " 537,\n",
              " 658,\n",
              " 1321,\n",
              " 605,\n",
              " 1212,\n",
              " 1449,\n",
              " 1756,\n",
              " 1872,\n",
              " 2346,\n",
              " 2414,\n",
              " 2513,\n",
              " 4991,\n",
              " 5428,\n",
              " 7095,\n",
              " 765,\n",
              " 300,\n",
              " 806,\n",
              " 2985,\n",
              " 3302,\n",
              " 4004,\n",
              " 4278,\n",
              " 4529,\n",
              " 4554,\n",
              " 4638,\n",
              " 4667,\n",
              " 6454,\n",
              " 6701,\n",
              " 6832,\n",
              " 6974,\n",
              " 353,\n",
              " 381,\n",
              " 542,\n",
              " 1329,\n",
              " 1472,\n",
              " 1566,\n",
              " 1591,\n",
              " 220,\n",
              " 2552,\n",
              " 758,\n",
              " 831,\n",
              " 909,\n",
              " 2208,\n",
              " 2788,\n",
              " 2934,\n",
              " 1435,\n",
              " 105,\n",
              " 1241,\n",
              " 101,\n",
              " 91,\n",
              " 2164,\n",
              " 1260,\n",
              " 6727,\n",
              " 3928,\n",
              " 1361,\n",
              " 1462,\n",
              " 2042,\n",
              " 404,\n",
              " 419,\n",
              " 509,\n",
              " 608,\n",
              " 810,\n",
              " 304,\n",
              " 110,\n",
              " 1087,\n",
              " 1437,\n",
              " 625,\n",
              " 651,\n",
              " 724,\n",
              " 1092,\n",
              " 1192,\n",
              " 1592,\n",
              " 2163,\n",
              " 2283,\n",
              " 2728,\n",
              " 2938,\n",
              " 7372,\n",
              " 71,\n",
              " 790,\n",
              " 431,\n",
              " 516,\n",
              " 2830,\n",
              " 4375,\n",
              " 4464,\n",
              " 6421,\n",
              " 4489,\n",
              " 4551,\n",
              " 4624,\n",
              " 4645,\n",
              " 4714,\n",
              " 4840,\n",
              " 6547,\n",
              " 1019,\n",
              " 1656,\n",
              " 375,\n",
              " 1633,\n",
              " 2102,\n",
              " 219,\n",
              " 264,\n",
              " 3073,\n",
              " 550,\n",
              " 579,\n",
              " 609,\n",
              " 703,\n",
              " 792,\n",
              " 863,\n",
              " 8,\n",
              " 2094,\n",
              " 2169,\n",
              " 2419,\n",
              " 2563,\n",
              " 2660,\n",
              " 2927,\n",
              " 5973,\n",
              " 2702,\n",
              " 2903,\n",
              " 6828,\n",
              " 3067,\n",
              " 491,\n",
              " 3931,\n",
              " 6517,\n",
              " 6933,\n",
              " 2821,\n",
              " 2921,\n",
              " 6243,\n",
              " 6564,\n",
              " 2183,\n",
              " 2549,\n",
              " 3669,\n",
              " 3778,\n",
              " 3890,\n",
              " 3970,\n",
              " 3974,\n",
              " 4001,\n",
              " 4014,\n",
              " 4211,\n",
              " 4251,\n",
              " 1083,\n",
              " 1182,\n",
              " 1637,\n",
              " 2401,\n",
              " 851,\n",
              " 232,\n",
              " 493,\n",
              " 502,\n",
              " 1012,\n",
              " 1790,\n",
              " 591,\n",
              " 921,\n",
              " 1116,\n",
              " 1121,\n",
              " 338,\n",
              " 350,\n",
              " 501,\n",
              " 1162,\n",
              " 1209,\n",
              " 1254,\n",
              " 1370,\n",
              " 1373,\n",
              " 1418,\n",
              " 1758,\n",
              " 1871,\n",
              " 1981,\n",
              " 2061,\n",
              " 246,\n",
              " 2504,\n",
              " 2613,\n",
              " 2700,\n",
              " 2724,\n",
              " 2826,\n",
              " 2956,\n",
              " 2960,\n",
              " 5078,\n",
              " 5272,\n",
              " 5413,\n",
              " 5590,\n",
              " 5600,\n",
              " 7311,\n",
              " 7320,\n",
              " 7360,\n",
              " 416,\n",
              " 100,\n",
              " 1270,\n",
              " 260,\n",
              " 409,\n",
              " 715,\n",
              " 805,\n",
              " 923,\n",
              " 2738,\n",
              " 2935,\n",
              " 2943,\n",
              " 3007,\n",
              " 3203,\n",
              " 3307,\n",
              " 3322,\n",
              " 3393,\n",
              " 3534,\n",
              " 3614,\n",
              " 3665,\n",
              " 4069,\n",
              " 4174,\n",
              " 4187,\n",
              " 4436,\n",
              " 4652,\n",
              " 6276,\n",
              " 6417,\n",
              " 6597,\n",
              " 6658,\n",
              " 4575,\n",
              " 4657,\n",
              " 4671,\n",
              " 4762,\n",
              " 4826,\n",
              " 4881,\n",
              " ...]"
            ]
          },
          "metadata": {},
          "execution_count": 21
        }
      ]
    },
    {
      "cell_type": "code",
      "source": [
        "sb.barplot(x='AirportFrom',y='DayOfWeek',data=arz)"
      ],
      "metadata": {
        "colab": {
          "base_uri": "https://localhost:8080/",
          "height": 296
        },
        "id": "zM5aQ_l31PWe",
        "outputId": "4e15c7a1-5dc7-4c26-fea4-4a72afa1160d"
      },
      "execution_count": 23,
      "outputs": [
        {
          "output_type": "execute_result",
          "data": {
            "text/plain": [
              "<matplotlib.axes._subplots.AxesSubplot at 0x7f242acb30d0>"
            ]
          },
          "metadata": {},
          "execution_count": 23
        },
        {
          "output_type": "display_data",
          "data": {
            "text/plain": [
              "<Figure size 432x288 with 1 Axes>"
            ],
            "image/png": "[encoded data removed]"
          },
          "metadata": {
            "needs_background": "light"
          }
        }
      ]
    },
    {
      "cell_type": "code",
      "source": [
        "sb.barplot(x='Airline',y='DayOfWeek',data=arz)"
      ],
      "metadata": {
        "colab": {
          "base_uri": "https://localhost:8080/",
          "height": 296
        },
        "id": "T1TQYBDH2CkO",
        "outputId": "b9b17da3-1a40-46fc-ee24-4947349748db"
      },
      "execution_count": 25,
      "outputs": [
        {
          "output_type": "execute_result",
          "data": {
            "text/plain": [
              "<matplotlib.axes._subplots.AxesSubplot at 0x7f242b450490>"
            ]
          },
          "metadata": {},
          "execution_count": 25
        },
        {
          "output_type": "display_data",
          "data": {
            "text/plain": [
              "<Figure size 432x288 with 1 Axes>"
            ],
            "image/png": "[encoded data removed]"
          },
          "metadata": {
            "needs_background": "light"
          }
        }
      ]
    },
    {
      "cell_type": "code",
      "source": [
        "sb.barplot(x='DayOfWeek',y='Delay',data=arz)"
      ],
      "metadata": {
        "colab": {
          "base_uri": "https://localhost:8080/",
          "height": 296
        },
        "id": "DIO5ensm2b8O",
        "outputId": "0b8d99c4-79b5-4a74-851a-92298ad79f0b"
      },
      "execution_count": 26,
      "outputs": [
        {
          "output_type": "execute_result",
          "data": {
            "text/plain": [
              "<matplotlib.axes._subplots.AxesSubplot at 0x7f242a207b10>"
            ]
          },
          "metadata": {},
          "execution_count": 26
        },
        {
          "output_type": "display_data",
          "data": {
            "text/plain": [
              "<Figure size 432x288 with 1 Axes>"
            ],
            "image/png": "[encoded data removed]"
          },
          "metadata": {
            "needs_background": "light"
          }
        }
      ]
    }
  ]
}