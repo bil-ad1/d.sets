{
  "nbformat": 4,
  "nbformat_minor": 0,
  "metadata": {
    "colab": {
      "name": "ec_02.ipynb",
      "provenance": []
    },
    "kernelspec": {
      "name": "python3",
      "display_name": "Python 3"
    },
    "language_info": {
      "name": "python"
    }
  },
  "cells": [
    {
      "cell_type": "code",
      "execution_count": 1,
      "metadata": {
        "id": "6Qc-7lTp1lg9"
      },
      "outputs": [],
      "source": [
        "import numpy as np\n",
        "import pandas as pd\n",
        "import matplotlib.pyplot as pp\n",
        "import seaborn as sb"
      ]
    },
    {
      "cell_type": "code",
      "source": [
        "e_c = pd.read_csv(\"/content/drive/MyDrive/d.sets/Pakistan Largest Ecommerce Dataset.csv\")"
      ],
      "metadata": {
        "colab": {
          "base_uri": "https://localhost:8080/"
        },
        "id": "tBTfalkH2K_k",
        "outputId": "254c99b7-ac84-4fc3-99e4-08b80859f19e"
      },
      "execution_count": 2,
      "outputs": [
        {
          "output_type": "stream",
          "name": "stderr",
          "text": [
            "/usr/local/lib/python3.7/dist-packages/IPython/core/interactiveshell.py:3326: DtypeWarning: Columns (7) have mixed types.Specify dtype option on import or set low_memory=False.\n",
            "  exec(code_obj, self.user_global_ns, self.user_ns)\n"
          ]
        }
      ]
    },
    {
      "cell_type": "code",
      "source": [
        "a01 = len ( e_c[(e_c.category_name_1 == 'Beauty & Grooming')&(e_c.payment_method=='Easypay')] )"
      ],
      "metadata": {
        "id": "TJ6LOhzv2RvX"
      },
      "execution_count": 3,
      "outputs": []
    },
    {
      "cell_type": "code",
      "source": [
        "a02 = len ( e_c[(e_c.category_name_1 == 'Beauty & Grooming')&(e_c.payment_method=='cod')] )"
      ],
      "metadata": {
        "id": "7nXvRgdJ20hg"
      },
      "execution_count": 4,
      "outputs": []
    },
    {
      "cell_type": "code",
      "source": [
        "a03 = len ( e_c[(e_c.category_name_1 == 'Beauty & Grooming')&(e_c.payment_method=='mygateway')] )"
      ],
      "metadata": {
        "id": "pGOQVQmt4Wi9"
      },
      "execution_count": 5,
      "outputs": []
    },
    {
      "cell_type": "code",
      "source": [
        "pp.title('B&G - payment_method')\n",
        "pp.bar('Easypay',a01)\n",
        "pp.bar('cod',a02)\n",
        "pp.bar('mygateway',a03)"
      ],
      "metadata": {
        "colab": {
          "base_uri": "https://localhost:8080/",
          "height": 298
        },
        "id": "uAQt0MtS3jPH",
        "outputId": "999c542f-4194-485e-ae68-ce855fa3009e"
      },
      "execution_count": 6,
      "outputs": [
        {
          "output_type": "execute_result",
          "data": {
            "text/plain": [
              "<BarContainer object of 1 artists>"
            ]
          },
          "metadata": {},
          "execution_count": 6
        },
        {
          "output_type": "display_data",
          "data": {
            "text/plain": [
              "<Figure size 432x288 with 1 Axes>"
            ],
            "image/png": "[encoded data removed]"
          },
          "metadata": {
            "needs_background": "light"
          }
        }
      ]
    },
    {
      "cell_type": "code",
      "source": [
        "a04 = len ( e_c[(e_c.category_name_1 == 'Men\\'s Fashion')] )\n",
        "a05 = len (  e_c[(e_c.category_name_1 == 'Health & Sports') ] )"
      ],
      "metadata": {
        "id": "JK14Alm54Gn0"
      },
      "execution_count": 7,
      "outputs": []
    },
    {
      "cell_type": "code",
      "source": [
        "pp.title('Men : Fashion vs Fitness')\n",
        "pp.bar('Men\\'s Fashion',a04)\n",
        "pp.bar('Health & Sports',a05)"
      ],
      "metadata": {
        "colab": {
          "base_uri": "https://localhost:8080/",
          "height": 298
        },
        "id": "rwX7-StC5E6S",
        "outputId": "1b534ded-fe5e-4bdf-a36d-46e11c59a9f7"
      },
      "execution_count": 8,
      "outputs": [
        {
          "output_type": "execute_result",
          "data": {
            "text/plain": [
              "<BarContainer object of 1 artists>"
            ]
          },
          "metadata": {},
          "execution_count": 8
        },
        {
          "output_type": "display_data",
          "data": {
            "text/plain": [
              "<Figure size 432x288 with 1 Axes>"
            ],
            "image/png": "[encoded data removed]"
          },
          "metadata": {
            "needs_background": "light"
          }
        }
      ]
    },
    {
      "cell_type": "code",
      "source": [
        "a06 = len ( e_c[(e_c.category_name_1 == 'Computing')] )\n",
        "a07 = len ( e_c[(e_c.category_name_1 == 'Books')] )\n",
        "pp.title('Comouting vs books')\n",
        "pp.bar('Computing',a06)\n",
        "pp.bar('Books',a07)"
      ],
      "metadata": {
        "colab": {
          "base_uri": "https://localhost:8080/",
          "height": 298
        },
        "id": "YVeR7kcW5-ZG",
        "outputId": "a88a1baa-289e-40f3-8658-c58a7491af73"
      },
      "execution_count": 9,
      "outputs": [
        {
          "output_type": "execute_result",
          "data": {
            "text/plain": [
              "<BarContainer object of 1 artists>"
            ]
          },
          "metadata": {},
          "execution_count": 9
        },
        {
          "output_type": "display_data",
          "data": {
            "text/plain": [
              "<Figure size 432x288 with 1 Axes>"
            ],
            "image/png": "[encoded data removed]"
          },
          "metadata": {
            "needs_background": "light"
          }
        }
      ]
    },
    {
      "cell_type": "code",
      "source": [
        "a08 = len ( e_c[(e_c.category_name_1 == 'Women\\'s Fashion')] )\n",
        "a09 = len ( e_c[(e_c.category_name_1 == 'Men\\'s Fashion')] )\n",
        "pp.title('Fashion : M vs W')\n",
        "pp.bar('Women\\'s Fashion',a08)\n",
        "pp.bar('Men\\'s Fashion',a09)"
      ],
      "metadata": {
        "colab": {
          "base_uri": "https://localhost:8080/",
          "height": 298
        },
        "id": "f8WAnFBm62hN",
        "outputId": "cc3698e9-b719-4f93-f9ac-06edc28be8c8"
      },
      "execution_count": 10,
      "outputs": [
        {
          "output_type": "execute_result",
          "data": {
            "text/plain": [
              "<BarContainer object of 1 artists>"
            ]
          },
          "metadata": {},
          "execution_count": 10
        },
        {
          "output_type": "display_data",
          "data": {
            "text/plain": [
              "<Figure size 432x288 with 1 Axes>"
            ],
            "image/png": "[encoded data removed]"
          },
          "metadata": {
            "needs_background": "light"
          }
        }
      ]
    },
    {
      "cell_type": "code",
      "source": [
        "a10 = len ( e_c[e_c.payment_method=='cod'] )\n",
        "a11 = len ( e_c[e_c.payment_method=='ublcreditcard'] )\n",
        "a12 = len ( e_c[e_c.payment_method=='mygateway'] )\n",
        "a13 = len ( e_c[e_c.payment_method=='customercredit'] )\n",
        "a14 = len ( e_c[e_c.payment_method=='cashatdoorstep'] )\n",
        "a15 = len ( e_c[e_c.payment_method=='mcblite'] )\n",
        "a16 = len ( e_c[e_c.payment_method=='internetbanking'] )\n",
        "a17 = len ( e_c[e_c.payment_method=='marketingexpense'] )\n",
        "a18 = len ( e_c[e_c.payment_method=='productcredit'] )\n",
        "a19 = len ( e_c[e_c.payment_method=='financesettlement'] )\n",
        "a20 = len ( e_c[e_c.payment_method=='Payaxis'] )\n",
        "a21 = len ( e_c[e_c.payment_method=='jazzvoucher'] )\n",
        "a22 = len ( e_c[e_c.payment_method=='jazzwallet'] )\n",
        "a23 = len ( e_c[e_c.payment_method=='Easypay'] )\n",
        "a24 = len ( e_c[e_c.payment_method=='Easypay_MA'] )\n",
        "a25 = len ( e_c[e_c.payment_method=='easypay_voucher'] )\n",
        "a26 = len ( e_c[e_c.payment_method=='bankalfalah'] )\n",
        "a27 = len ( e_c[e_c.payment_method=='apg'] )"
      ],
      "metadata": {
        "id": "63iRvCNA7yVi"
      },
      "execution_count": 11,
      "outputs": []
    },
    {
      "cell_type": "code",
      "source": [
        "pp.title('payment methods')\n",
        "pp.barh('cod',a10)\n",
        "pp.barh('ublcreditcard',a11)\n",
        "pp.barh('mygateway',a12)\n",
        "pp.barh('customercredit',a13)\n",
        "pp.barh('cashatdoorstep',a14)\n",
        "pp.barh('mcblite',a15)\n",
        "pp.barh('internetbanking',a16)\n",
        "pp.barh('marketingexpense',a17)\n",
        "pp.barh('productcredit',a18)\n",
        "pp.barh('financesettlement',a19)\n",
        "pp.barh('Payaxis',a20)\n",
        "pp.barh('jazzvoucher',a21)\n",
        "pp.barh('jazzwallet',a22)\n",
        "pp.barh('Easypay',a23)\n",
        "pp.barh('Easypay_MA',a24)\n",
        "pp.barh('easypay_voucher',a25)\n",
        "pp.barh('bankalfalah',a26)\n",
        "pp.barh('apg',a27)"
      ],
      "metadata": {
        "colab": {
          "base_uri": "https://localhost:8080/",
          "height": 298
        },
        "id": "_5qS7KK28KaS",
        "outputId": "7833cffe-5ffb-4ff2-a036-da7945d515ad"
      },
      "execution_count": 12,
      "outputs": [
        {
          "output_type": "execute_result",
          "data": {
            "text/plain": [
              "<BarContainer object of 1 artists>"
            ]
          },
          "metadata": {},
          "execution_count": 12
        },
        {
          "output_type": "display_data",
          "data": {
            "text/plain": [
              "<Figure size 432x288 with 1 Axes>"
            ],
            "image/png": "[encoded data removed]"
          },
          "metadata": {
            "needs_background": "light"
          }
        }
      ]
    },
    {
      "cell_type": "code",
      "source": [
        "m__t = e_c[(e_c.category_name_1=='Mobiles & Tablets')]"
      ],
      "metadata": {
        "id": "B7x1G7pu_1sc"
      },
      "execution_count": 13,
      "outputs": []
    },
    {
      "cell_type": "code",
      "source": [
        "m__t.head()"
      ],
      "metadata": {
        "colab": {
          "base_uri": "https://localhost:8080/",
          "height": 404
        },
        "id": "3_Kd3Yp4AQOj",
        "outputId": "ba859b8f-8a1f-4abb-83d3-a990382863b8"
      },
      "execution_count": 14,
      "outputs": [
        {
          "output_type": "execute_result",
          "data": {
            "text/plain": [
              "    item_id    status created_at                   sku    price  qty_ordered  \\\n",
              "8    211140  canceled   7/1/2016  Apple iPhone 6S 64GB  96499.0            1   \n",
              "9    211141  canceled   7/1/2016  Apple iPhone 6S 64GB  96499.0            1   \n",
              "31   211168  complete   7/1/2016     Samsung Galaxy J5  20999.0            1   \n",
              "42   211180  canceled   7/1/2016     Lexon_LL116B-Blue   3600.0            1   \n",
              "45   211185  complete   7/1/2016     Q MOBILE Noir X20   4500.0            1   \n",
              "\n",
              "    grand_total increment_id    category_name_1 sales_commission_code  ...  \\\n",
              "8       96499.0    100147451  Mobiles & Tablets                    \\N  ...   \n",
              "9       96499.0    100147452  Mobiles & Tablets                    \\N  ...   \n",
              "31      20999.0    100147466  Mobiles & Tablets           R-FSD-58130  ...   \n",
              "42      11000.0    100147473  Mobiles & Tablets                    \\N  ...   \n",
              "45       4500.0    100147475  Mobiles & Tablets                    \\N  ...   \n",
              "\n",
              "    payment_method Working Date BI Status     MV   Year  Month  \\\n",
              "8    ublcreditcard     7/1/2016     Gross  96,499  2016      7   \n",
              "9        mygateway     7/1/2016     Gross  96,499  2016      7   \n",
              "31             cod     7/1/2016       Net  20,999  2016      7   \n",
              "42       mygateway     7/1/2016     Gross   3,600  2016      7   \n",
              "45             cod     7/1/2016       Net   4,500  2016      7   \n",
              "\n",
              "    Customer Since     M-Y    FY Customer ID  \n",
              "8           2016-7  Jul-16  FY17         8.0  \n",
              "9           2016-7  Jul-16  FY17         8.0  \n",
              "31          2016-7  Jul-16  FY17        20.0  \n",
              "42          2016-7  Jul-16  FY17        25.0  \n",
              "45          2016-7  Jul-16  FY17        26.0  \n",
              "\n",
              "[5 rows x 21 columns]"
            ],
            "text/html": [
              "\n",
              "  <div id=\"df-3a3b9daa-7cb6-4c88-888c-0fe9d7ca2ee1\">\n",
              "    <div class=\"colab-df-container\">\n",
              "      <div>\n",
              "<style scoped>\n",
              "    .dataframe tbody tr th:only-of-type {\n",
              "        vertical-align: middle;\n",
              "    }\n",
              "\n",
              "    .dataframe tbody tr th {\n",
              "        vertical-align: top;\n",
              "    }\n",
              "\n",
              "    .dataframe thead th {\n",
              "        text-align: right;\n",
              "    }\n",
              "</style>\n",
              "<table border=\"1\" class=\"dataframe\">\n",
              "  <thead>\n",
              "    <tr style=\"text-align: right;\">\n",
              "      <th></th>\n",
              "      <th>item_id</th>\n",
              "      <th>status</th>\n",
              "      <th>created_at</th>\n",
              "      <th>sku</th>\n",
              "      <th>price</th>\n",
              "      <th>qty_ordered</th>\n",
              "      <th>grand_total</th>\n",
              "      <th>increment_id</th>\n",
              "      <th>category_name_1</th>\n",
              "      <th>sales_commission_code</th>\n",
              "      <th>...</th>\n",
              "      <th>payment_method</th>\n",
              "      <th>Working Date</th>\n",
              "      <th>BI Status</th>\n",
              "      <th>MV</th>\n",
              "      <th>Year</th>\n",
              "      <th>Month</th>\n",
              "      <th>Customer Since</th>\n",
              "      <th>M-Y</th>\n",
              "      <th>FY</th>\n",
              "      <th>Customer ID</th>\n",
              "    </tr>\n",
              "  </thead>\n",
              "  <tbody>\n",
              "    <tr>\n",
              "      <th>8</th>\n",
              "      <td>211140</td>\n",
              "      <td>canceled</td>\n",
              "      <td>7/1/2016</td>\n",
              "      <td>Apple iPhone 6S 64GB</td>\n",
              "      <td>96499.0</td>\n",
              "      <td>1</td>\n",
              "      <td>96499.0</td>\n",
              "      <td>100147451</td>\n",
              "      <td>Mobiles &amp; Tablets</td>\n",
              "      <td>\\N</td>\n",
              "      <td>...</td>\n",
              "      <td>ublcreditcard</td>\n",
              "      <td>7/1/2016</td>\n",
              "      <td>Gross</td>\n",
              "      <td>96,499</td>\n",
              "      <td>2016</td>\n",
              "      <td>7</td>\n",
              "      <td>2016-7</td>\n",
              "      <td>Jul-16</td>\n",
              "      <td>FY17</td>\n",
              "      <td>8.0</td>\n",
              "    </tr>\n",
              "    <tr>\n",
              "      <th>9</th>\n",
              "      <td>211141</td>\n",
              "      <td>canceled</td>\n",
              "      <td>7/1/2016</td>\n",
              "      <td>Apple iPhone 6S 64GB</td>\n",
              "      <td>96499.0</td>\n",
              "      <td>1</td>\n",
              "      <td>96499.0</td>\n",
              "      <td>100147452</td>\n",
              "      <td>Mobiles &amp; Tablets</td>\n",
              "      <td>\\N</td>\n",
              "      <td>...</td>\n",
              "      <td>mygateway</td>\n",
              "      <td>7/1/2016</td>\n",
              "      <td>Gross</td>\n",
              "      <td>96,499</td>\n",
              "      <td>2016</td>\n",
              "      <td>7</td>\n",
              "      <td>2016-7</td>\n",
              "      <td>Jul-16</td>\n",
              "      <td>FY17</td>\n",
              "      <td>8.0</td>\n",
              "    </tr>\n",
              "    <tr>\n",
              "      <th>31</th>\n",
              "      <td>211168</td>\n",
              "      <td>complete</td>\n",
              "      <td>7/1/2016</td>\n",
              "      <td>Samsung Galaxy J5</td>\n",
              "      <td>20999.0</td>\n",
              "      <td>1</td>\n",
              "      <td>20999.0</td>\n",
              "      <td>100147466</td>\n",
              "      <td>Mobiles &amp; Tablets</td>\n",
              "      <td>R-FSD-58130</td>\n",
              "      <td>...</td>\n",
              "      <td>cod</td>\n",
              "      <td>7/1/2016</td>\n",
              "      <td>Net</td>\n",
              "      <td>20,999</td>\n",
              "      <td>2016</td>\n",
              "      <td>7</td>\n",
              "      <td>2016-7</td>\n",
              "      <td>Jul-16</td>\n",
              "      <td>FY17</td>\n",
              "      <td>20.0</td>\n",
              "    </tr>\n",
              "    <tr>\n",
              "      <th>42</th>\n",
              "      <td>211180</td>\n",
              "      <td>canceled</td>\n",
              "      <td>7/1/2016</td>\n",
              "      <td>Lexon_LL116B-Blue</td>\n",
              "      <td>3600.0</td>\n",
              "      <td>1</td>\n",
              "      <td>11000.0</td>\n",
              "      <td>100147473</td>\n",
              "      <td>Mobiles &amp; Tablets</td>\n",
              "      <td>\\N</td>\n",
              "      <td>...</td>\n",
              "      <td>mygateway</td>\n",
              "      <td>7/1/2016</td>\n",
              "      <td>Gross</td>\n",
              "      <td>3,600</td>\n",
              "      <td>2016</td>\n",
              "      <td>7</td>\n",
              "      <td>2016-7</td>\n",
              "      <td>Jul-16</td>\n",
              "      <td>FY17</td>\n",
              "      <td>25.0</td>\n",
              "    </tr>\n",
              "    <tr>\n",
              "      <th>45</th>\n",
              "      <td>211185</td>\n",
              "      <td>complete</td>\n",
              "      <td>7/1/2016</td>\n",
              "      <td>Q MOBILE Noir X20</td>\n",
              "      <td>4500.0</td>\n",
              "      <td>1</td>\n",
              "      <td>4500.0</td>\n",
              "      <td>100147475</td>\n",
              "      <td>Mobiles &amp; Tablets</td>\n",
              "      <td>\\N</td>\n",
              "      <td>...</td>\n",
              "      <td>cod</td>\n",
              "      <td>7/1/2016</td>\n",
              "      <td>Net</td>\n",
              "      <td>4,500</td>\n",
              "      <td>2016</td>\n",
              "      <td>7</td>\n",
              "      <td>2016-7</td>\n",
              "      <td>Jul-16</td>\n",
              "      <td>FY17</td>\n",
              "      <td>26.0</td>\n",
              "    </tr>\n",
              "  </tbody>\n",
              "</table>\n",
              "<p>5 rows × 21 columns</p>\n",
              "</div>\n",
              "      <button class=\"colab-df-convert\" onclick=\"convertToInteractive('df-3a3b9daa-7cb6-4c88-888c-0fe9d7ca2ee1')\"\n",
              "              title=\"Convert this dataframe to an interactive table.\"\n",
              "              style=\"display:none;\">\n",
              "        \n",
              "  <svg xmlns=\"http://www.w3.org/2000/svg\" height=\"24px\"viewBox=\"0 0 24 24\"\n",
              "       width=\"24px\">\n",
              "    <path d=\"M0 0h24v24H0V0z\" fill=\"none\"/>\n",
              "    <path d=\"M18.56 5.44l.94 2.06.94-2.06 2.06-.94-2.06-.94-.94-2.06-.94 2.06-2.06.94zm-11 1L8.5 8.5l.94-2.06 2.06-.94-2.06-.94L8.5 2.5l-.94 2.06-2.06.94zm10 10l.94 2.06.94-2.06 2.06-.94-2.06-.94-.94-2.06-.94 2.06-2.06.94z\"/><path d=\"M17.41 7.96l-1.37-1.37c-.4-.4-.92-.59-1.43-.59-.52 0-1.04.2-1.43.59L10.3 9.45l-7.72 7.72c-.78.78-.78 2.05 0 2.83L4 21.41c.39.39.9.59 1.41.59.51 0 1.02-.2 1.41-.59l7.78-7.78 2.81-2.81c.8-.78.8-2.07 0-2.86zM5.41 20L4 18.59l7.72-7.72 1.47 1.35L5.41 20z\"/>\n",
              "  </svg>\n",
              "      </button>\n",
              "      \n",
              "  <style>\n",
              "    .colab-df-container {\n",
              "      display:flex;\n",
              "      flex-wrap:wrap;\n",
              "      gap: 12px;\n",
              "    }\n",
              "\n",
              "    .colab-df-convert {\n",
              "      background-color: #E8F0FE;\n",
              "      border: none;\n",
              "      border-radius: 50%;\n",
              "      cursor: pointer;\n",
              "      display: none;\n",
              "      fill: #1967D2;\n",
              "      height: 32px;\n",
              "      padding: 0 0 0 0;\n",
              "      width: 32px;\n",
              "    }\n",
              "\n",
              "    .colab-df-convert:hover {\n",
              "      background-color: #E2EBFA;\n",
              "      box-shadow: 0px 1px 2px rgba(60, 64, 67, 0.3), 0px 1px 3px 1px rgba(60, 64, 67, 0.15);\n",
              "      fill: #174EA6;\n",
              "    }\n",
              "\n",
              "    [theme=dark] .colab-df-convert {\n",
              "      background-color: #3B4455;\n",
              "      fill: #D2E3FC;\n",
              "    }\n",
              "\n",
              "    [theme=dark] .colab-df-convert:hover {\n",
              "      background-color: #434B5C;\n",
              "      box-shadow: 0px 1px 3px 1px rgba(0, 0, 0, 0.15);\n",
              "      filter: drop-shadow(0px 1px 2px rgba(0, 0, 0, 0.3));\n",
              "      fill: #FFFFFF;\n",
              "    }\n",
              "  </style>\n",
              "\n",
              "      <script>\n",
              "        const buttonEl =\n",
              "          document.querySelector('#df-3a3b9daa-7cb6-4c88-888c-0fe9d7ca2ee1 button.colab-df-convert');\n",
              "        buttonEl.style.display =\n",
              "          google.colab.kernel.accessAllowed ? 'block' : 'none';\n",
              "\n",
              "        async function convertToInteractive(key) {\n",
              "          const element = document.querySelector('#df-3a3b9daa-7cb6-4c88-888c-0fe9d7ca2ee1');\n",
              "          const dataTable =\n",
              "            await google.colab.kernel.invokeFunction('convertToInteractive',\n",
              "                                                     [key], {});\n",
              "          if (!dataTable) return;\n",
              "\n",
              "          const docLinkHtml = 'Like what you see? Visit the ' +\n",
              "            '<a target=\"_blank\" href=https://colab.research.google.com/notebooks/data_table.ipynb>data table notebook</a>'\n",
              "            + ' to learn more about interactive tables.';\n",
              "          element.innerHTML = '';\n",
              "          dataTable['output_type'] = 'display_data';\n",
              "          await google.colab.output.renderOutput(dataTable, element);\n",
              "          const docLink = document.createElement('div');\n",
              "          docLink.innerHTML = docLinkHtml;\n",
              "          element.appendChild(docLink);\n",
              "        }\n",
              "      </script>\n",
              "    </div>\n",
              "  </div>\n",
              "  "
            ]
          },
          "metadata": {},
          "execution_count": 14
        }
      ]
    },
    {
      "cell_type": "code",
      "source": [
        "sb.barplot(x='Year',y='grand_total',data=m__t)"
      ],
      "metadata": {
        "colab": {
          "base_uri": "https://localhost:8080/",
          "height": 296
        },
        "id": "I_PQyaXeBjPq",
        "outputId": "f7c158ca-3d20-4b03-d46b-5fab8577ca4c"
      },
      "execution_count": 15,
      "outputs": [
        {
          "output_type": "execute_result",
          "data": {
            "text/plain": [
              "<matplotlib.axes._subplots.AxesSubplot at 0x7f0237d917d0>"
            ]
          },
          "metadata": {},
          "execution_count": 15
        },
        {
          "output_type": "display_data",
          "data": {
            "text/plain": [
              "<Figure size 432x288 with 1 Axes>"
            ],
            "image/png": "[encoded data removed]"
          },
          "metadata": {
            "needs_background": "light"
          }
        }
      ]
    },
    {
      "cell_type": "code",
      "source": [
        "sb.barplot(x='Year',y='qty_ordered',data=m__t)"
      ],
      "metadata": {
        "colab": {
          "base_uri": "https://localhost:8080/",
          "height": 296
        },
        "id": "HjVZUf1eClTn",
        "outputId": "f54e0e66-d533-4533-80aa-d0d2b9fe2d1e"
      },
      "execution_count": 16,
      "outputs": [
        {
          "output_type": "execute_result",
          "data": {
            "text/plain": [
              "<matplotlib.axes._subplots.AxesSubplot at 0x7f0237d1bad0>"
            ]
          },
          "metadata": {},
          "execution_count": 16
        },
        {
          "output_type": "display_data",
          "data": {
            "text/plain": [
              "<Figure size 432x288 with 1 Axes>"
            ],
            "image/png": "[encoded data removed]"
          },
          "metadata": {
            "needs_background": "light"
          }
        }
      ]
    }
  ]
}