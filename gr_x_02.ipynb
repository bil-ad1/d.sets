{
  "nbformat": 4,
  "nbformat_minor": 0,
  "metadata": {
    "colab": {
      "name": "gr_x_02.ipynb",
      "provenance": [],
      "collapsed_sections": []
    },
    "kernelspec": {
      "name": "python3",
      "display_name": "Python 3"
    },
    "language_info": {
      "name": "python"
    }
  },
  "cells": [
    {
      "cell_type": "code",
      "execution_count": 1,
      "metadata": {
        "id": "iabrQgbPp7Hz"
      },
      "outputs": [],
      "source": [
        "import numpy as np\n",
        "import pandas as pd\n",
        "import matplotlib.pyplot as pp"
      ]
    },
    {
      "cell_type": "code",
      "source": [
        "g_x = pd.read_csv(\"/content/train_v9rqX0R.csv\")"
      ],
      "metadata": {
        "id": "Rdz4gpkCp-em"
      },
      "execution_count": 2,
      "outputs": []
    },
    {
      "cell_type": "code",
      "source": [
        "f_i_1 = len (  g_x[(g_x.Item_Type =='Frozen Foods' )&(g_x.Outlet_Size=='High')] )\n",
        "f_i_2 = len (  g_x[(g_x.Item_Type =='Frozen Foods' )&(g_x.Outlet_Size=='Medium')] )\n",
        "f_i_3 = len (  g_x[(g_x.Item_Type =='Frozen Foods' )&(g_x.Outlet_Size=='Small')] )"
      ],
      "metadata": {
        "id": "LFNg2lrUqIfp"
      },
      "execution_count": 3,
      "outputs": []
    },
    {
      "cell_type": "code",
      "source": [
        "pp.title(\"Frozen items / Outlet size\")\n",
        "pp.bar('Small',f_i_3)\n",
        "pp.bar('Medium',f_i_2)\n",
        "pp.bar('High',f_i_1)\n",
        "pp.plot()\n",
        "pp.show()"
      ],
      "metadata": {
        "colab": {
          "base_uri": "https://localhost:8080/",
          "height": 281
        },
        "id": "lIlP5lF3rA3T",
        "outputId": "09d3b791-f4b8-434b-d662-856509fd8629"
      },
      "execution_count": 4,
      "outputs": [
        {
          "output_type": "display_data",
          "data": {
            "text/plain": [
              "<Figure size 432x288 with 1 Axes>"
            ],
            "image/png": "[encoded data removed]"
          },
          "metadata": {
            "needs_background": "light"
          }
        }
      ]
    },
    {
      "cell_type": "code",
      "source": [
        "fr_p = f_i_3,f_i_2,f_i_1\n",
        "pp.pie(fr_p,labels=['S','M','H'])\n",
        "pp.plot()\n",
        "pp.show()"
      ],
      "metadata": {
        "colab": {
          "base_uri": "https://localhost:8080/",
          "height": 248
        },
        "id": "upVXg_7irjFO",
        "outputId": "7d68815d-64fc-4ed4-f15e-a97ce1982595"
      },
      "execution_count": 5,
      "outputs": [
        {
          "output_type": "display_data",
          "data": {
            "text/plain": [
              "<Figure size 432x288 with 1 Axes>"
            ],
            "image/png": "[encoded data removed]"
          },
          "metadata": {}
        }
      ]
    },
    {
      "cell_type": "code",
      "source": [
        "f_i_4 = len (  g_x[(g_x.Item_Type =='Frozen Foods' )&(g_x.Outlet_Location_Type=='Tier 1')] )\n",
        "f_i_5 = len (  g_x[(g_x.Item_Type =='Frozen Foods' )&(g_x.Outlet_Location_Type=='Tier 2')] )\n",
        "f_i_6 = len (  g_x[(g_x.Item_Type =='Frozen Foods' )&(g_x.Outlet_Location_Type=='Tier 3')] )"
      ],
      "metadata": {
        "id": "UHj3xt69sC4I"
      },
      "execution_count": 6,
      "outputs": []
    },
    {
      "cell_type": "code",
      "source": [
        "pp.title(\"Frozen items / Outlet Location\")\n",
        "pp.bar('Tier 1',f_i_4)\n",
        "pp.bar('Tier 2',f_i_5)\n",
        "pp.bar('Tier 3',f_i_6)\n",
        "pp.plot()\n",
        "pp.show()"
      ],
      "metadata": {
        "colab": {
          "base_uri": "https://localhost:8080/",
          "height": 281
        },
        "id": "yOt0MmVnsq96",
        "outputId": "d112fc40-f519-444f-bfb3-d6d41acd29e8"
      },
      "execution_count": 7,
      "outputs": [
        {
          "output_type": "display_data",
          "data": {
            "text/plain": [
              "<Figure size 432x288 with 1 Axes>"
            ],
            "image/png": "[encoded data removed]"
          },
          "metadata": {
            "needs_background": "light"
          }
        }
      ]
    },
    {
      "cell_type": "code",
      "source": [
        "b_i_1 = len (  g_x[(g_x.Item_Type =='Baking Goods' )&(g_x.Outlet_Size=='High')] )\n",
        "b_i_2 = len (  g_x[(g_x.Item_Type =='Baking Goods' )&(g_x.Outlet_Size=='Medium')] )\n",
        "b_i_3 = len (  g_x[(g_x.Item_Type =='Baking Goods' )&(g_x.Outlet_Size=='Small')] )"
      ],
      "metadata": {
        "id": "c9_lUqkPtAkC"
      },
      "execution_count": 8,
      "outputs": []
    },
    {
      "cell_type": "code",
      "source": [
        "pp.title(\"Baking Goods / Outlet size\")\n",
        "pp.bar('Small',b_i_3)\n",
        "pp.bar('Medium',b_i_2)\n",
        "pp.bar('High',b_i_1)\n",
        "pp.plot()\n",
        "pp.show()"
      ],
      "metadata": {
        "colab": {
          "base_uri": "https://localhost:8080/",
          "height": 281
        },
        "id": "n3My8TjetxNs",
        "outputId": "ec3e265c-66b4-41ed-9aec-887979a4e6a9"
      },
      "execution_count": 9,
      "outputs": [
        {
          "output_type": "display_data",
          "data": {
            "text/plain": [
              "<Figure size 432x288 with 1 Axes>"
            ],
            "image/png": "[encoded data removed]"
          },
          "metadata": {
            "needs_background": "light"
          }
        }
      ]
    },
    {
      "cell_type": "code",
      "source": [
        "b_i_4 = len (  g_x[(g_x.Item_Type =='Baking Goods' )&(g_x.Outlet_Location_Type=='Tier 1')] )\n",
        "b_i_5 = len (  g_x[(g_x.Item_Type =='Baking Goods' )&(g_x.Outlet_Location_Type=='Tier 2')] )\n",
        "b_i_6 = len (  g_x[(g_x.Item_Type =='Baking Goods' )&(g_x.Outlet_Location_Type=='Tier 3')] )"
      ],
      "metadata": {
        "id": "ue4is1tbuEgU"
      },
      "execution_count": 10,
      "outputs": []
    },
    {
      "cell_type": "code",
      "source": [
        "pp.title(\"Frozen items / Outlet Location\")\n",
        "pp.bar('Tier 1',b_i_4)\n",
        "pp.bar('Tier 2',b_i_5)\n",
        "pp.bar('Tier 3',b_i_6)\n",
        "pp.plot()\n",
        "pp.show()"
      ],
      "metadata": {
        "colab": {
          "base_uri": "https://localhost:8080/",
          "height": 281
        },
        "id": "VtRb6Nz-ukNd",
        "outputId": "35395c99-9b25-4609-d032-aa88e0773bb0"
      },
      "execution_count": 11,
      "outputs": [
        {
          "output_type": "display_data",
          "data": {
            "text/plain": [
              "<Figure size 432x288 with 1 Axes>"
            ],
            "image/png": "[encoded data removed]"
          },
          "metadata": {
            "needs_background": "light"
          }
        }
      ]
    },
    {
      "cell_type": "code",
      "source": [
        "fv_i_1 = len (  g_x[(g_x.Item_Type =='Fruits and Vegetables' )&(g_x.Outlet_Size=='High')] )\n",
        "fv_i_2 = len (  g_x[(g_x.Item_Type =='Fruits and Vegetables' )&(g_x.Outlet_Size=='Medium')] )\n",
        "fv_i_3 = len (  g_x[(g_x.Item_Type =='Fruits and Vegetables' )&(g_x.Outlet_Size=='Small')] )\n",
        "fv_i_4 = len (  g_x[(g_x.Item_Type =='Fruits and Vegetables' )&(g_x.Outlet_Location_Type=='Tier 1')] )\n",
        "fv_i_5 = len (  g_x[(g_x.Item_Type =='Fruits and Vegetables' )&(g_x.Outlet_Location_Type=='Tier 2')] )\n",
        "fv_i_6 = len (  g_x[(g_x.Item_Type =='Fruits and Vegetables' )&(g_x.Outlet_Location_Type=='Tier 3')] )"
      ],
      "metadata": {
        "id": "lzWqprlMus8q"
      },
      "execution_count": 12,
      "outputs": []
    },
    {
      "cell_type": "code",
      "source": [
        "pp.title(\"Fruits and Vegetables / Outlet size\")\n",
        "pp.bar('Small',fv_i_3)\n",
        "pp.bar('Medium',fv_i_2)\n",
        "pp.bar('High',fv_i_1)\n",
        "pp.plot()\n",
        "pp.show()"
      ],
      "metadata": {
        "colab": {
          "base_uri": "https://localhost:8080/",
          "height": 281
        },
        "id": "JXkPPFMqvgTd",
        "outputId": "0d131e35-d093-4402-f844-8e57faac4a0b"
      },
      "execution_count": 13,
      "outputs": [
        {
          "output_type": "display_data",
          "data": {
            "text/plain": [
              "<Figure size 432x288 with 1 Axes>"
            ],
            "image/png": "[encoded data removed]"
          },
          "metadata": {
            "needs_background": "light"
          }
        }
      ]
    },
    {
      "cell_type": "code",
      "source": [
        "pp.title(\"Fruits and Vegetables / Outlet Location\")\n",
        "pp.bar('Tier 1',fv_i_4)\n",
        "pp.bar('Tier 2',fv_i_5)\n",
        "pp.bar('Tier 3',fv_i_6)\n",
        "pp.plot()\n",
        "pp.show()"
      ],
      "metadata": {
        "colab": {
          "base_uri": "https://localhost:8080/",
          "height": 281
        },
        "id": "mGqaujc9vp66",
        "outputId": "82be4129-6de2-46be-9474-5c562e0af64b"
      },
      "execution_count": 14,
      "outputs": [
        {
          "output_type": "display_data",
          "data": {
            "text/plain": [
              "<Figure size 432x288 with 1 Axes>"
            ],
            "image/png": "[encoded data removed]"
          },
          "metadata": {
            "needs_background": "light"
          }
        }
      ]
    },
    {
      "cell_type": "code",
      "source": [
        ""
      ],
      "metadata": {
        "id": "W9otttXZv4Fp"
      },
      "execution_count": null,
      "outputs": []
    }
  ]
}