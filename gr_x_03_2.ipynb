{
  "nbformat": 4,
  "nbformat_minor": 0,
  "metadata": {
    "colab": {
      "name": "gr_x_04.ipynb",
      "provenance": [],
      "collapsed_sections": []
    },
    "kernelspec": {
      "name": "python3",
      "display_name": "Python 3"
    },
    "language_info": {
      "name": "python"
    }
  },
  "cells": [
    {
      "cell_type": "code",
      "execution_count": 1,
      "metadata": {
        "id": "J1i-L3WxlldG"
      },
      "outputs": [],
      "source": [
        "import numpy as np\n",
        "import pandas as pd\n",
        "import matplotlib.pyplot as pp"
      ]
    },
    {
      "cell_type": "code",
      "source": [
        "g_x = pd.read_csv(\"/content/train_v9rqX0R.csv\")"
      ],
      "metadata": {
        "id": "S4QioV-KmF_d"
      },
      "execution_count": 2,
      "outputs": []
    },
    {
      "cell_type": "code",
      "source": [
        "ta_01 = len (  g_x[(g_x.Item_Type =='Dairy' )&(g_x.Outlet_Size=='Small')] )\n",
        "ta_02 = len (  g_x[(g_x.Item_Type =='Soft Drinks')&(g_x.Outlet_Size=='Small')] )\n",
        "ta_03 = len (  g_x[(g_x.Item_Type =='Meat' )&(g_x.Outlet_Size=='Small')] )\n",
        "ta_04 = len ( g_x[(g_x.Item_Type =='Fruits and Vegetables')&(g_x.Outlet_Size=='Small')] )\n",
        "ta_05 = len ( g_x[(g_x.Item_Type =='Household')&(g_x.Outlet_Size=='Small')] )\n",
        "ta_06 = len (  g_x[(g_x.Item_Type =='Baking Goods')&(g_x.Outlet_Size=='Small')] )\n",
        "ta_07 = len ( g_x[(g_x.Item_Type =='Snack Foods' )&(g_x.Outlet_Size=='Small')] )\n",
        "ta_08 = len ( g_x[(g_x.Item_Type =='Frozen Foods' )&(g_x.Outlet_Size=='Small')] )\n",
        "ta_09 = len ( g_x[(g_x.Item_Type =='Breakfast' )&(g_x.Outlet_Size=='Small')] )\n",
        "ta_10 = len ( g_x[(g_x.Item_Type =='Health and Hygiene' )&(g_x.Outlet_Size=='Small')] )\n",
        "ta_11 = len ( g_x[(g_x.Item_Type =='Hard Drinks' )&(g_x.Outlet_Size=='Small')] )\n",
        "ta_12 = len ( g_x[(g_x.Item_Type =='Canned')&(g_x.Outlet_Size=='Small')] )\n",
        "ta_13 = len ( g_x[(g_x.Item_Type =='Breads')&(g_x.Outlet_Size=='Small')] )\n",
        "ta_14 = len ( g_x[(g_x.Item_Type =='Starchy Foods')&(g_x.Outlet_Size=='Small')] )\n",
        "ta_15 = len ( g_x[(g_x.Item_Type =='Others' )&(g_x.Outlet_Size=='Small')] )\n",
        "ta_16 = len ( g_x[(g_x.Item_Type =='Seafood' )&(g_x.Outlet_Size=='Small')] )"
      ],
      "metadata": {
        "id": "URaAufbwm6hr"
      },
      "execution_count": 3,
      "outputs": []
    },
    {
      "cell_type": "code",
      "source": [
        "pp.barh('Dairy',ta_01)\n",
        "pp.barh('Soft Drinks',ta_02)\n",
        "pp.barh('Meat',ta_03)\n",
        "pp.barh('Fruits and Vegetables',ta_04)\n",
        "pp.barh('Household',ta_05)\n",
        "pp.barh('Baking Goods',ta_06)\n",
        "pp.barh('Snack Foods',ta_07)\n",
        "pp.barh('Frozen Foods',ta_08)\n",
        "pp.barh('Breakfast',ta_09)\n",
        "pp.barh('Health and Hygiene',ta_10)\n",
        "pp.barh('Hard Drinks',ta_11)\n",
        "pp.barh('Canned',ta_12)\n",
        "pp.barh('Breads',ta_13)\n",
        "pp.barh('Starchy Foods',ta_14)\n",
        "pp.barh('Others',ta_15)\n",
        "pp.barh('Seafood',ta_16)\n",
        "pp.plot()\n",
        "pp.show()"
      ],
      "metadata": {
        "colab": {
          "base_uri": "https://localhost:8080/",
          "height": 265
        },
        "id": "mc2rUrsNm9GI",
        "outputId": "17aea6b6-509b-409a-fd95-5a50b688038a"
      },
      "execution_count": 4,
      "outputs": [
        {
          "output_type": "display_data",
          "data": {
            "text/plain": [
              "<Figure size 432x288 with 1 Axes>"
            ],
            "image/png": "[encoded data removed]"
          },
          "metadata": {
            "needs_background": "light"
          }
        }
      ]
    },
    {
      "cell_type": "code",
      "source": [
        ""
      ],
      "metadata": {
        "id": "g20CUPOanFqg"
      },
      "execution_count": null,
      "outputs": []
    }
  ]
}