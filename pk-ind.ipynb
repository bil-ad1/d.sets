{
  "nbformat": 4,
  "nbformat_minor": 0,
  "metadata": {
    "colab": {
      "name": "Untitled1.ipynb",
      "provenance": [],
      "collapsed_sections": []
    },
    "kernelspec": {
      "name": "python3",
      "display_name": "Python 3"
    },
    "language_info": {
      "name": "python"
    }
  },
  "cells": [
    {
      "cell_type": "code",
      "execution_count": 24,
      "metadata": {
        "id": "-HzpHA6BYHyA"
      },
      "outputs": [],
      "source": [
        "import numpy as np\n",
        "import pandas as pd\n",
        "import matplotlib.pyplot as pp"
      ]
    },
    {
      "cell_type": "code",
      "source": [
        "df = pd.read_csv(\"/content/pkvsind.csv\")"
      ],
      "metadata": {
        "id": "PjUelw8NYd_t"
      },
      "execution_count": 25,
      "outputs": []
    },
    {
      "cell_type": "code",
      "source": [
        "print (df)"
      ],
      "metadata": {
        "colab": {
          "base_uri": "https://localhost:8080/"
        },
        "id": "xSGpI0LtZgll",
        "outputId": "b91b402b-26a8-41db-99f4-1ef097b7175d"
      },
      "execution_count": 26,
      "outputs": [
        {
          "output_type": "stream",
          "name": "stdout",
          "text": [
            "    country        Region  Surface area (km2)  Population in thousands (2017)  \\\n",
            "0     India  SouthernAsia             3287263                         1339180   \n",
            "1  Pakistan  SouthernAsia              796095                          197016   \n",
            "\n",
            "   Population density (per km2, 2017)  Sex ratio (m per 100 f, 2017)  \\\n",
            "0                               450.4                          107.6   \n",
            "1                               255.6                          105.6   \n",
            "\n",
            "   GDP: Gross domestic product (million current US$)  \\\n",
            "0                                            2116239   \n",
            "1                                             266458   \n",
            "\n",
            "   GDP growth rate (annual %, const. 2005 prices)  \\\n",
            "0                                             7.6   \n",
            "1                                             5.5   \n",
            "\n",
            "   GDP per capita (current US$)  Economy: Agriculture (% of GVA)  ...  \\\n",
            "0                        1614.2                             17.0  ...   \n",
            "1                        1410.4                             25.5  ...   \n",
            "\n",
            "   Mobile-cellular subscriptions (per 100 inhabitants).1  \\\n",
            "0                                                 26       \n",
            "1                                                 18       \n",
            "\n",
            "   Individuals using the Internet (per 100 inhabitants)  \\\n",
            "0                                               1052      \n",
            "1                                                140      \n",
            "\n",
            "   Threatened species (number)  Forested area (% of land area)  \\\n",
            "0                         23.7                      2238.4/1.7   \n",
            "1                          2.0                       166.3/0.9   \n",
            "\n",
            "   CO2 emission estimates (million tons/tons per capita)  \\\n",
            "0                                              23103       \n",
            "1                                               2202       \n",
            "\n",
            "   Energy production, primary (Petajoules)  \\\n",
            "0                                       27   \n",
            "1                                       17   \n",
            "\n",
            "  Energy supply per capita (Gigajoules)  \\\n",
            "0                             97.1/92.6   \n",
            "1                             93.9/89.9   \n",
            "\n",
            "   Pop. using improved drinking water (urban/rural, %)  \\\n",
            "0                                          62.6/28.5     \n",
            "1                                          83.1/51.1     \n",
            "\n",
            "   Pop. using improved sanitation facilities (urban/rural, %)  \\\n",
            "0                                               0.16            \n",
            "1                                               1.32            \n",
            "\n",
            "   Net Official Development Assist. received (% of GNI)  \n",
            "0                                                NaN     \n",
            "1                                                NaN     \n",
            "\n",
            "[2 rows x 50 columns]\n"
          ]
        }
      ]
    },
    {
      "cell_type": "code",
      "source": [
        "df.iloc[1]"
      ],
      "metadata": {
        "colab": {
          "base_uri": "https://localhost:8080/"
        },
        "id": "LA_vKnSVZgvB",
        "outputId": "2993f52a-1990-4495-e4f0-8d3bb8570690"
      },
      "execution_count": 27,
      "outputs": [
        {
          "output_type": "execute_result",
          "data": {
            "text/plain": [
              "country                                                           Pakistan\n",
              "Region                                                        SouthernAsia\n",
              "Surface area (km2)                                                  796095\n",
              "Population in thousands (2017)                                      197016\n",
              "Population density (per km2, 2017)                                   255.6\n",
              "Sex ratio (m per 100 f, 2017)                                        105.6\n",
              "GDP: Gross domestic product (million current US$)                   266458\n",
              "GDP growth rate (annual %, const. 2005 prices)                         5.5\n",
              "GDP per capita (current US$)                                        1410.4\n",
              "Economy: Agriculture (% of GVA)                                       25.5\n",
              "Economy: Industry (% of GVA)                                          19.0\n",
              "Economy: Services and other activity (% of GVA)                       55.5\n",
              "Employment: Agriculture (% of employed)                               42.1\n",
              "Employment: Industry (% of employed)                                  19.8\n",
              "Employment: Services (% of employed)                                  38.1\n",
              "Unemployment (% of labour force)                                       5.9\n",
              "Labour force participation (female/male pop. %)                  24.8/82.5\n",
              "Agricultural production index (2004-2006=100)                          135\n",
              "Food production index (2004-2006=100)                                  138\n",
              "International trade: Exports (million US$)                           20534\n",
              "International trade: Imports (million US$)                           46998\n",
              "International trade: Balance (million US$)                          -26464\n",
              "Balance of payments, current account (million US$)                   -1603\n",
              "Population growth rate (average annual %)                              2.1\n",
              "Urban population (% of total population)                              38.8\n",
              "Urban population growth rate (average annual %)                        2.8\n",
              "Fertility rate, total (live births per woman)                          3.7\n",
              "Life expectancy at birth (females/males, years)                  66.8/65.0\n",
              "Population age distribution (0-14 / 60+ years, %)                 34.8/6.7\n",
              "International migrant stock (000/% of total pop.)               3629.0/1.9\n",
              "Refugees and others of concern to UNHCR (in thousands)              2739.4\n",
              "Infant mortality rate (per 1000 live births                           69.8\n",
              "Health: Total expenditure (% of GDP)                                   2.6\n",
              "Health: Physicians (per 1000 pop.)                                     0.8\n",
              "Education: Government expenditure (% of GDP)                           2.6\n",
              "Education: Primary gross enrol. ratio (f/m per 100 pop.)         85.2/99.7\n",
              "Education: Secondary gross enrol. ratio (f/m per 100 pop.)       39.2/49.5\n",
              "Education: Tertiary gross enrol. ratio (f/m per 100 pop.)         9.2/10.6\n",
              "Seats held by women in national parliaments %                         20.6\n",
              "Mobile-cellular subscriptions (per 100 inhabitants)                   66.9\n",
              "Mobile-cellular subscriptions (per 100 inhabitants).1                   18\n",
              "Individuals using the Internet (per 100 inhabitants)                   140\n",
              "Threatened species (number)                                            2.0\n",
              "Forested area (% of land area)                                   166.3/0.9\n",
              "CO2 emission estimates (million tons/tons per capita)                 2202\n",
              "Energy production, primary (Petajoules)                                 17\n",
              "Energy supply per capita (Gigajoules)                            93.9/89.9\n",
              "Pop. using improved drinking water (urban/rural, %)              83.1/51.1\n",
              "Pop. using improved sanitation facilities (urban/rural, %)            1.32\n",
              "Net Official Development Assist. received (% of GNI)                   NaN\n",
              "Name: 1, dtype: object"
            ]
          },
          "metadata": {},
          "execution_count": 27
        }
      ]
    },
    {
      "cell_type": "code",
      "source": [
        "df.iloc[0]"
      ],
      "metadata": {
        "colab": {
          "base_uri": "https://localhost:8080/"
        },
        "id": "z4iNYA1kaExR",
        "outputId": "f4ad39f5-0a29-4696-9fa5-b40399cd85fb"
      },
      "execution_count": 28,
      "outputs": [
        {
          "output_type": "execute_result",
          "data": {
            "text/plain": [
              "country                                                              India\n",
              "Region                                                        SouthernAsia\n",
              "Surface area (km2)                                                 3287263\n",
              "Population in thousands (2017)                                     1339180\n",
              "Population density (per km2, 2017)                                   450.4\n",
              "Sex ratio (m per 100 f, 2017)                                        107.6\n",
              "GDP: Gross domestic product (million current US$)                  2116239\n",
              "GDP growth rate (annual %, const. 2005 prices)                         7.6\n",
              "GDP per capita (current US$)                                        1614.2\n",
              "Economy: Agriculture (% of GVA)                                       17.0\n",
              "Economy: Industry (% of GVA)                                          29.7\n",
              "Economy: Services and other activity (% of GVA)                       53.2\n",
              "Employment: Agriculture (% of employed)                               44.3\n",
              "Employment: Industry (% of employed)                                  24.5\n",
              "Employment: Services (% of employed)                                  31.2\n",
              "Unemployment (% of labour force)                                       3.4\n",
              "Labour force participation (female/male pop. %)                  27.0/79.1\n",
              "Agricultural production index (2004-2006=100)                          143\n",
              "Food production index (2004-2006=100)                                  142\n",
              "International trade: Exports (million US$)                          260327\n",
              "International trade: Imports (million US$)                          356705\n",
              "International trade: Balance (million US$)                          -96378\n",
              "Balance of payments, current account (million US$)                  -22457\n",
              "Population growth rate (average annual %)                              1.2\n",
              "Urban population (% of total population)                              32.7\n",
              "Urban population growth rate (average annual %)                        2.4\n",
              "Fertility rate, total (live births per woman)                          2.4\n",
              "Life expectancy at birth (females/males, years)                  69.1/66.2\n",
              "Population age distribution (0-14 / 60+ years, %)                 27.8/9.4\n",
              "International migrant stock (000/% of total pop.)               5241.0/0.4\n",
              "Refugees and others of concern to UNHCR (in thousands)               211.1\n",
              "Infant mortality rate (per 1000 live births                           41.3\n",
              "Health: Total expenditure (% of GDP)                                   4.7\n",
              "Health: Physicians (per 1000 pop.)                                     0.7\n",
              "Education: Government expenditure (% of GDP)                           3.8\n",
              "Education: Primary gross enrol. ratio (f/m per 100 pop.)       115.1/102.8\n",
              "Education: Secondary gross enrol. ratio (f/m per 100 pop.)       74.5/73.5\n",
              "Education: Tertiary gross enrol. ratio (f/m per 100 pop.)        26.7/27.0\n",
              "Seats held by women in national parliaments %                         11.8\n",
              "Mobile-cellular subscriptions (per 100 inhabitants)                   78.8\n",
              "Mobile-cellular subscriptions (per 100 inhabitants).1                   26\n",
              "Individuals using the Internet (per 100 inhabitants)                  1052\n",
              "Threatened species (number)                                           23.7\n",
              "Forested area (% of land area)                                  2238.4/1.7\n",
              "CO2 emission estimates (million tons/tons per capita)                23103\n",
              "Energy production, primary (Petajoules)                                 27\n",
              "Energy supply per capita (Gigajoules)                            97.1/92.6\n",
              "Pop. using improved drinking water (urban/rural, %)              62.6/28.5\n",
              "Pop. using improved sanitation facilities (urban/rural, %)            0.16\n",
              "Net Official Development Assist. received (% of GNI)                   NaN\n",
              "Name: 0, dtype: object"
            ]
          },
          "metadata": {},
          "execution_count": 28
        }
      ]
    },
    {
      "cell_type": "code",
      "source": [
        "df.iloc[0,[2,3]]"
      ],
      "metadata": {
        "colab": {
          "base_uri": "https://localhost:8080/"
        },
        "id": "0_H2F2V8aLRW",
        "outputId": "dca3f796-9b1c-4467-e73c-ce0d27a37474"
      },
      "execution_count": 29,
      "outputs": [
        {
          "output_type": "execute_result",
          "data": {
            "text/plain": [
              "Surface area (km2)                3287263\n",
              "Population in thousands (2017)    1339180\n",
              "Name: 0, dtype: object"
            ]
          },
          "metadata": {},
          "execution_count": 29
        }
      ]
    },
    {
      "cell_type": "code",
      "source": [
        "df.iloc[0,[2,3]].corr"
      ],
      "metadata": {
        "colab": {
          "base_uri": "https://localhost:8080/"
        },
        "id": "JpPf8pbjaqjY",
        "outputId": "7926fb57-519a-4555-b119-d45c2e779f58"
      },
      "execution_count": 30,
      "outputs": [
        {
          "output_type": "execute_result",
          "data": {
            "text/plain": [
              "<bound method Series.corr of Surface area (km2)                3287263\n",
              "Population in thousands (2017)    1339180\n",
              "Name: 0, dtype: object>"
            ]
          },
          "metadata": {},
          "execution_count": 30
        }
      ]
    },
    {
      "cell_type": "code",
      "source": [
        "v1= df.iloc[0,[10]]\n",
        "print(v1)"
      ],
      "metadata": {
        "colab": {
          "base_uri": "https://localhost:8080/"
        },
        "id": "IHKoclR1bJFI",
        "outputId": "8696c9d6-5fc8-409a-aabb-c1dc56b44b19"
      },
      "execution_count": 31,
      "outputs": [
        {
          "output_type": "stream",
          "name": "stdout",
          "text": [
            "Economy: Industry (% of GVA)    29.7\n",
            "Name: 0, dtype: object\n"
          ]
        }
      ]
    },
    {
      "cell_type": "code",
      "source": [
        "v2 = df.iloc[1,[10]]\n",
        "print(v2)"
      ],
      "metadata": {
        "colab": {
          "base_uri": "https://localhost:8080/"
        },
        "id": "VSejlYD4cFXx",
        "outputId": "c507d557-7d65-4ce0-83db-b4489986ad55"
      },
      "execution_count": 32,
      "outputs": [
        {
          "output_type": "stream",
          "name": "stdout",
          "text": [
            "Economy: Industry (% of GVA)    19.0\n",
            "Name: 1, dtype: object\n"
          ]
        }
      ]
    },
    {
      "cell_type": "code",
      "source": [
        "df.iloc[0,0]"
      ],
      "metadata": {
        "colab": {
          "base_uri": "https://localhost:8080/",
          "height": 35
        },
        "id": "1obw5whjda9M",
        "outputId": "2456caf5-b7c6-46c3-ebc8-14faef5c8263"
      },
      "execution_count": 33,
      "outputs": [
        {
          "output_type": "execute_result",
          "data": {
            "text/plain": [
              "'India'"
            ],
            "application/vnd.google.colaboratory.intrinsic+json": {
              "type": "string"
            }
          },
          "metadata": {},
          "execution_count": 33
        }
      ]
    },
    {
      "cell_type": "code",
      "source": [
        "df.iloc[1,0]"
      ],
      "metadata": {
        "colab": {
          "base_uri": "https://localhost:8080/",
          "height": 35
        },
        "id": "s8Nqyts1kL68",
        "outputId": "798dbe04-acdf-4804-936e-5eaca87dc8da"
      },
      "execution_count": 34,
      "outputs": [
        {
          "output_type": "execute_result",
          "data": {
            "text/plain": [
              "'Pakistan'"
            ],
            "application/vnd.google.colaboratory.intrinsic+json": {
              "type": "string"
            }
          },
          "metadata": {},
          "execution_count": 34
        }
      ]
    },
    {
      "cell_type": "code",
      "source": [
        "df.iloc[0,10]"
      ],
      "metadata": {
        "colab": {
          "base_uri": "https://localhost:8080/"
        },
        "id": "fltHf44OkrbA",
        "outputId": "8be121f7-3230-4bcb-ea07-294a683436d3"
      },
      "execution_count": 35,
      "outputs": [
        {
          "output_type": "execute_result",
          "data": {
            "text/plain": [
              "29.7"
            ]
          },
          "metadata": {},
          "execution_count": 35
        }
      ]
    },
    {
      "cell_type": "code",
      "source": [
        "df.iloc[1,10]"
      ],
      "metadata": {
        "colab": {
          "base_uri": "https://localhost:8080/"
        },
        "id": "e7CQl3GAkvmo",
        "outputId": "592f85fa-356a-46a1-c41c-c3180e7564ff"
      },
      "execution_count": 36,
      "outputs": [
        {
          "output_type": "execute_result",
          "data": {
            "text/plain": [
              "19.0"
            ]
          },
          "metadata": {},
          "execution_count": 36
        }
      ]
    },
    {
      "cell_type": "code",
      "source": [
        "pp.bar(df.iloc[0,0],df.iloc[0,10],color='b')\n",
        "pp.bar(df.iloc[1,0],df.iloc[1,10],color='g')\n",
        "pp.plot()\n",
        "pp.show()"
      ],
      "metadata": {
        "colab": {
          "base_uri": "https://localhost:8080/",
          "height": 265
        },
        "id": "pNW5I6e8cXen",
        "outputId": "28733fca-faf4-4e76-b704-c05aa8d5fa29"
      },
      "execution_count": 37,
      "outputs": [
        {
          "output_type": "display_data",
          "data": {
            "text/plain": [
              "<Figure size 432x288 with 1 Axes>"
            ],
            "image/png": "[encoded data removed]"
          },
          "metadata": {
            "needs_background": "light"
          }
        }
      ]
    },
    {
      "cell_type": "code",
      "source": [
        "df.iloc[0,[9,10,11]]"
      ],
      "metadata": {
        "colab": {
          "base_uri": "https://localhost:8080/"
        },
        "id": "zXRL1VyzkzMv",
        "outputId": "1477d6ef-f6c7-41c4-d0c5-f3ebafc17f11"
      },
      "execution_count": 42,
      "outputs": [
        {
          "output_type": "execute_result",
          "data": {
            "text/plain": [
              "Economy: Agriculture (% of GVA)                    17.0\n",
              "Economy: Industry (% of GVA)                       29.7\n",
              "Economy: Services and other activity (% of GVA)    53.2\n",
              "Name: 0, dtype: object"
            ]
          },
          "metadata": {},
          "execution_count": 42
        }
      ]
    },
    {
      "cell_type": "code",
      "source": [
        "df.iloc[0,[9]]"
      ],
      "metadata": {
        "colab": {
          "base_uri": "https://localhost:8080/"
        },
        "id": "gB1IFWF7w22X",
        "outputId": "fac4dce2-8b9e-4d07-9f10-604f47a4604d"
      },
      "execution_count": 43,
      "outputs": [
        {
          "output_type": "execute_result",
          "data": {
            "text/plain": [
              "Economy: Agriculture (% of GVA)    17.0\n",
              "Name: 0, dtype: object"
            ]
          },
          "metadata": {},
          "execution_count": 43
        }
      ]
    },
    {
      "cell_type": "code",
      "source": [
        "df.iloc[0,[10]]"
      ],
      "metadata": {
        "colab": {
          "base_uri": "https://localhost:8080/"
        },
        "id": "4gEHjR4txqBh",
        "outputId": "f9d848fa-1891-463e-94e4-2b38e395578c"
      },
      "execution_count": 44,
      "outputs": [
        {
          "output_type": "execute_result",
          "data": {
            "text/plain": [
              "Economy: Industry (% of GVA)    29.7\n",
              "Name: 0, dtype: object"
            ]
          },
          "metadata": {},
          "execution_count": 44
        }
      ]
    },
    {
      "cell_type": "code",
      "source": [
        "df.iloc[0,[11]]"
      ],
      "metadata": {
        "colab": {
          "base_uri": "https://localhost:8080/"
        },
        "id": "zV-nUgRgx3kU",
        "outputId": "b9146169-b9f3-49d8-d10e-e0880c8af166"
      },
      "execution_count": 45,
      "outputs": [
        {
          "output_type": "execute_result",
          "data": {
            "text/plain": [
              "Economy: Services and other activity (% of GVA)    53.2\n",
              "Name: 0, dtype: object"
            ]
          },
          "metadata": {},
          "execution_count": 45
        }
      ]
    },
    {
      "cell_type": "code",
      "source": [
        "eco = np.array([df.iloc[0,[9]],df.iloc[0,[10]],df.iloc[0,[11]]])\n",
        "print(eco)"
      ],
      "metadata": {
        "colab": {
          "base_uri": "https://localhost:8080/"
        },
        "id": "LSVL_Io6zOZX",
        "outputId": "87a7898a-f5e2-4419-c124-6f671d5336af"
      },
      "execution_count": 46,
      "outputs": [
        {
          "output_type": "stream",
          "name": "stdout",
          "text": [
            "[[17.0]\n",
            " [29.7]\n",
            " [53.2]]\n"
          ]
        }
      ]
    },
    {
      "cell_type": "code",
      "source": [
        "pp.title(\"economy pie\")\n",
        "pp.pie(eco)\n",
        "pp.plot()\n",
        "pp.show()"
      ],
      "metadata": {
        "colab": {
          "base_uri": "https://localhost:8080/",
          "height": 319
        },
        "id": "4LdZRX6T0Mc-",
        "outputId": "4f009f57-d1c4-49eb-eab7-7b232313eca1"
      },
      "execution_count": 47,
      "outputs": [
        {
          "output_type": "stream",
          "name": "stderr",
          "text": [
            "/usr/local/lib/python3.7/dist-packages/ipykernel_launcher.py:2: MatplotlibDeprecationWarning: Non-1D inputs to pie() are currently squeeze()d, but this behavior is deprecated since 3.1 and will be removed in 3.3; pass a 1D array instead.\n",
            "  \n"
          ]
        },
        {
          "output_type": "display_data",
          "data": {
            "text/plain": [
              "<Figure size 432x288 with 1 Axes>"
            ],
            "image/png": "[encoded data removed]"
          },
          "metadata": {}
        }
      ]
    },
    {
      "cell_type": "code",
      "source": [
        "ecp = np.array([df.iloc[1,[9]],df.iloc[1,[10]],df.iloc[1,[11]]])\n",
        "print(eco)"
      ],
      "metadata": {
        "colab": {
          "base_uri": "https://localhost:8080/"
        },
        "id": "GyYL329n0awy",
        "outputId": "b829b008-12a6-4797-e382-cbb0228fe5d4"
      },
      "execution_count": 48,
      "outputs": [
        {
          "output_type": "stream",
          "name": "stdout",
          "text": [
            "[[17.0]\n",
            " [29.7]\n",
            " [53.2]]\n"
          ]
        }
      ]
    },
    {
      "cell_type": "code",
      "source": [
        "pp.title(\"economy pie\")\n",
        "pp.pie(ecp)\n",
        "pp.plot()\n",
        "pp.show()"
      ],
      "metadata": {
        "colab": {
          "base_uri": "https://localhost:8080/",
          "height": 319
        },
        "id": "dQLy_Co81sMr",
        "outputId": "ed596ab7-c51c-44b7-fd99-3d37c1f44398"
      },
      "execution_count": 49,
      "outputs": [
        {
          "output_type": "stream",
          "name": "stderr",
          "text": [
            "/usr/local/lib/python3.7/dist-packages/ipykernel_launcher.py:2: MatplotlibDeprecationWarning: Non-1D inputs to pie() are currently squeeze()d, but this behavior is deprecated since 3.1 and will be removed in 3.3; pass a 1D array instead.\n",
            "  \n"
          ]
        },
        {
          "output_type": "display_data",
          "data": {
            "text/plain": [
              "<Figure size 432x288 with 1 Axes>"
            ],
            "image/png": "[encoded data removed]"
          },
          "metadata": {}
        }
      ]
    },
    {
      "cell_type": "code",
      "source": [
        ""
      ],
      "metadata": {
        "id": "HzLVF5EA1yzT"
      },
      "execution_count": null,
      "outputs": []
    }
  ]
}