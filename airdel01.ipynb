{
  "nbformat": 4,
  "nbformat_minor": 0,
  "metadata": {
    "colab": {
      "name": "airdel01.ipynb",
      "provenance": [],
      "collapsed_sections": []
    },
    "kernelspec": {
      "name": "python3",
      "display_name": "Python 3"
    },
    "language_info": {
      "name": "python"
    }
  },
  "cells": [
    {
      "cell_type": "code",
      "execution_count": 1,
      "metadata": {
        "id": "-zKp2WnjiWqT"
      },
      "outputs": [],
      "source": [
        "import numpy as np\n",
        "import pandas as pd\n",
        "import matplotlib.pyplot as pp"
      ]
    },
    {
      "cell_type": "code",
      "source": [
        "f_d = pd.read_csv(\"/content/drive/MyDrive/d.sets/Flight_delay.csv\")"
      ],
      "metadata": {
        "id": "lf61OW-qjC6o"
      },
      "execution_count": 2,
      "outputs": []
    },
    {
      "cell_type": "code",
      "source": [
        "f_d.info()"
      ],
      "metadata": {
        "colab": {
          "base_uri": "https://localhost:8080/"
        },
        "id": "cSu1hHkWjGsM",
        "outputId": "c4007ef7-3a98-415d-ebc1-d397015960fb"
      },
      "execution_count": 3,
      "outputs": [
        {
          "output_type": "stream",
          "name": "stdout",
          "text": [
            "<class 'pandas.core.frame.DataFrame'>\n",
            "RangeIndex: 484551 entries, 0 to 484550\n",
            "Data columns (total 29 columns):\n",
            " #   Column             Non-Null Count   Dtype \n",
            "---  ------             --------------   ----- \n",
            " 0   DayOfWeek          484551 non-null  int64 \n",
            " 1   Date               484551 non-null  object\n",
            " 2   DepTime            484551 non-null  int64 \n",
            " 3   ArrTime            484551 non-null  int64 \n",
            " 4   CRSArrTime         484551 non-null  int64 \n",
            " 5   UniqueCarrier      484551 non-null  object\n",
            " 6   Airline            484551 non-null  object\n",
            " 7   FlightNum          484551 non-null  int64 \n",
            " 8   TailNum            484551 non-null  object\n",
            " 9   ActualElapsedTime  484551 non-null  int64 \n",
            " 10  CRSElapsedTime     484551 non-null  int64 \n",
            " 11  AirTime            484551 non-null  int64 \n",
            " 12  ArrDelay           484551 non-null  int64 \n",
            " 13  DepDelay           484551 non-null  int64 \n",
            " 14  Origin             484551 non-null  object\n",
            " 15  Org_Airport        483374 non-null  object\n",
            " 16  Dest               484551 non-null  object\n",
            " 17  Dest_Airport       483072 non-null  object\n",
            " 18  Distance           484551 non-null  int64 \n",
            " 19  TaxiIn             484551 non-null  int64 \n",
            " 20  TaxiOut            484551 non-null  int64 \n",
            " 21  Cancelled          484551 non-null  int64 \n",
            " 22  CancellationCode   484551 non-null  object\n",
            " 23  Diverted           484551 non-null  int64 \n",
            " 24  CarrierDelay       484551 non-null  int64 \n",
            " 25  WeatherDelay       484551 non-null  int64 \n",
            " 26  NASDelay           484551 non-null  int64 \n",
            " 27  SecurityDelay      484551 non-null  int64 \n",
            " 28  LateAircraftDelay  484551 non-null  int64 \n",
            "dtypes: int64(20), object(9)\n",
            "memory usage: 107.2+ MB\n"
          ]
        }
      ]
    },
    {
      "cell_type": "code",
      "source": [
        "f_d.Airline.unique()"
      ],
      "metadata": {
        "colab": {
          "base_uri": "https://localhost:8080/"
        },
        "id": "IteOqZzpjKr4",
        "outputId": "a18e60c5-474e-4646-a433-d829da3cdab1"
      },
      "execution_count": 4,
      "outputs": [
        {
          "output_type": "execute_result",
          "data": {
            "text/plain": [
              "array(['Southwest Airlines Co.', 'Skywest Airlines Inc.',\n",
              "       'United Air Lines Inc.', 'US Airways Inc.', 'Delta Air Lines Inc.',\n",
              "       'Atlantic Southeast Airlines', 'Frontier Airlines Inc.',\n",
              "       'Hawaiian Airlines Inc.', 'American Eagle Airlines Inc.',\n",
              "       'American Airlines Inc.', 'Alaska Airlines Inc.',\n",
              "       'JetBlue Airways'], dtype=object)"
            ]
          },
          "metadata": {},
          "execution_count": 4
        }
      ]
    },
    {
      "cell_type": "code",
      "source": [
        "len ( f_d[(f_d.Airline =='Southwest Airlines Co.' )] )"
      ],
      "metadata": {
        "colab": {
          "base_uri": "https://localhost:8080/"
        },
        "id": "R2yhDbwTjb4U",
        "outputId": "7a7cf73e-343a-4c23-99e0-caa5c844b89e"
      },
      "execution_count": 5,
      "outputs": [
        {
          "output_type": "execute_result",
          "data": {
            "text/plain": [
              "119048"
            ]
          },
          "metadata": {},
          "execution_count": 5
        }
      ]
    },
    {
      "cell_type": "code",
      "source": [
        "al01 = len ( f_d[(f_d.Airline =='Southwest Airlines Co.' )] )\n",
        "al02 = len ( f_d[(f_d.Airline =='Skywest Airlines Inc.' )] )\n",
        "al03 = len ( f_d[(f_d.Airline =='United Air Lines Inc.' )] )\n",
        "al04 = len ( f_d[(f_d.Airline =='US Airways Inc.' )] )\n",
        "al05 = len ( f_d[(f_d.Airline =='Delta Air Lines Inc.' )] )\n",
        "al06 = len ( f_d[(f_d.Airline =='Atlantic Southeast Airlines')] )\n",
        "al07 = len ( f_d[(f_d.Airline =='Frontier Airlines Inc.' )] )\n",
        "al08 = len ( f_d[(f_d.Airline =='Hawaiian Airlines Inc.' )] )\n",
        "al09 = len ( f_d[(f_d.Airline =='American Eagle Airlines Inc.' )] )\n",
        "al10 = len ( f_d[(f_d.Airline =='American Airlines Inc.' )] )\n",
        "al11 = len ( f_d[(f_d.Airline =='Alaska Airlines Inc.' )] )\n",
        "al12 = len ( f_d[(f_d.Airline =='JetBlue Airways' )] )"
      ],
      "metadata": {
        "id": "uSRtI1KGkElm"
      },
      "execution_count": 9,
      "outputs": []
    },
    {
      "cell_type": "code",
      "source": [
        "pp.title(\"Delays of Airlines\")\n",
        "pp.barh('Southwest Airlines Co.',al01)\n",
        "pp.barh('Skywest Airlines Inc.',al02)\n",
        "pp.barh('United Air Lines Inc.',al03)\n",
        "pp.barh('US Airways Inc.',al04)\n",
        "pp.barh('Delta Air Lines Inc.',al05)\n",
        "pp.barh('Atlantic Southeast Airlines',al06)\n",
        "pp.barh('Frontier Airlines Inc.',al07)\n",
        "pp.barh('Hawaiian Airlines Inc.',al08)\n",
        "pp.barh('American Eagle Airlines Inc.',al09)\n",
        "pp.barh('American Airlines Inc.',al10)\n",
        "pp.barh('Alaska Airlines Inc.',al11)\n",
        "pp.barh('JetBlue Airways',al12)"
      ],
      "metadata": {
        "colab": {
          "base_uri": "https://localhost:8080/",
          "height": 298
        },
        "id": "ZxPzWwA3q-x8",
        "outputId": "b7cfd0ae-50d2-4120-b8da-9fec9c6c192f"
      },
      "execution_count": 10,
      "outputs": [
        {
          "output_type": "execute_result",
          "data": {
            "text/plain": [
              "<BarContainer object of 1 artists>"
            ]
          },
          "metadata": {},
          "execution_count": 10
        },
        {
          "output_type": "display_data",
          "data": {
            "text/plain": [
              "<Figure size 432x288 with 1 Axes>"
            ],
            "image/png": "[encoded data removed]"
          },
          "metadata": {
            "needs_background": "light"
          }
        }
      ]
    },
    {
      "cell_type": "code",
      "source": [
        "f_d.Org_Airport.unique()"
      ],
      "metadata": {
        "colab": {
          "base_uri": "https://localhost:8080/"
        },
        "id": "m61I5y3Rs6_r",
        "outputId": "09f061a5-a84c-4018-bfcd-0758c9162512"
      },
      "execution_count": 12,
      "outputs": [
        {
          "output_type": "execute_result",
          "data": {
            "text/plain": [
              "array(['Indianapolis International Airport',\n",
              "       'Long Island MacArthur Airport',\n",
              "       'Jackson-Evers International Airport',\n",
              "       'Jacksonville International Airport',\n",
              "       'McCarran International Airport',\n",
              "       'Los Angeles International Airport',\n",
              "       'Lubbock Preston Smith International Airport',\n",
              "       'Bill and Hillary Clinton National Airport\\xa0(Adams Field)',\n",
              "       'Midland International Airport',\n",
              "       'Kansas City International Airport',\n",
              "       'Orlando International Airport',\n",
              "       'Chicago Midway International Airport',\n",
              "       'Manchester-Boston Regional Airport',\n",
              "       'Louis Armstrong New Orleans International Airport',\n",
              "       'Oakland International Airport', 'Will Rogers World Airport',\n",
              "       'Eppley Airfield', 'Ontario International Airport',\n",
              "       'Norfolk International Airport',\n",
              "       'Palm Beach International Airport',\n",
              "       'Portland International Airport',\n",
              "       'Philadelphia International Airport',\n",
              "       'Phoenix Sky Harbor International Airport',\n",
              "       'Pittsburgh International Airport',\n",
              "       'Theodore Francis Green State Airport',\n",
              "       'Raleigh-Durham International Airport',\n",
              "       'Reno/Tahoe International Airport',\n",
              "       'Southwest Florida International Airport',\n",
              "       'San Diego International Airport\\xa0(Lindbergh Field)',\n",
              "       'San Antonio International Airport',\n",
              "       'Louisville International Airport\\xa0(Standiford Field)',\n",
              "       'Seattle-Tacoma International Airport',\n",
              "       'San Francisco International Airport',\n",
              "       'Norman Y. Mineta San José International Airport',\n",
              "       'Salt Lake City International Airport',\n",
              "       'Sacramento International Airport',\n",
              "       'John Wayne Airport\\xa0(Orange County Airport)',\n",
              "       'St. Louis International Airport at Lambert Field',\n",
              "       'Tampa International Airport', 'Tulsa International Airport',\n",
              "       'Tucson International Airport',\n",
              "       'Albuquerque International Sunport',\n",
              "       'Rick Husband Amarillo International Airport',\n",
              "       'Austin-Bergstrom International Airport',\n",
              "       'Birmingham-Shuttlesworth International Airport',\n",
              "       'Nashville International Airport',\n",
              "       'Boise Airport\\xa0(Boise Air Terminal)',\n",
              "       'Buffalo Niagara International Airport',\n",
              "       'Bob Hope Airport\\xa0(Hollywood Burbank Airport)',\n",
              "       'Baltimore-Washington International Airport',\n",
              "       'Port Columbus International Airport',\n",
              "       'Corpus Christi International Airport', 'Dallas Love Field',\n",
              "       'Denver International Airport', 'El Paso International Airport',\n",
              "       'Fort Lauderdale-Hollywood International Airport',\n",
              "       'Spokane International Airport', 'William P. Hobby Airport',\n",
              "       'Valley International Airport',\n",
              "       'Washington Dulles International Airport',\n",
              "       'Albany International Airport', 'Bradley International Airport',\n",
              "       'Detroit Metropolitan Airport',\n",
              "       'Cleveland Hopkins International Airport',\n",
              "       \"Chicago O'Hare International Airport\",\n",
              "       'Hartsfield-Jackson Atlanta International Airport',\n",
              "       'Cincinnati/Northern Kentucky International Airport',\n",
              "       'General Mitchell International Airport',\n",
              "       'Minneapolis-Saint Paul International Airport',\n",
              "       'Newark Liberty International Airport',\n",
              "       'Friedman Memorial Airport', 'St. George Regional Airport',\n",
              "       'Missoula International Airport',\n",
              "       'Bozeman Yellowstone International Airport\\xa0(Gallatin Field Airport)',\n",
              "       'Great Falls International Airport',\n",
              "       'Billings Logan International Airport',\n",
              "       'Palm Springs International Airport',\n",
              "       'Yampa Valley Airport\\xa0(Yampa Valley Regional)',\n",
              "       'George Bush Intercontinental Airport',\n",
              "       'Dallas/Fort Worth International Airport',\n",
              "       'Aspen-Pitkin County Airport', 'Jackson Hole Airport',\n",
              "       'San Luis Obispo County Regional Airport\\xa0(McChesney Field)',\n",
              "       'Fresno Yosemite International Airport',\n",
              "       'Eugene Airport\\xa0(Mahlon Sweet Field)', nan,\n",
              "       'Blue Grass Airport', 'Sioux Falls Regional Airport',\n",
              "       'Burlington International Airport',\n",
              "       'Roanoke Regional Airport\\xa0(Woodrum Field)',\n",
              "       'Memphis International Airport', 'Hector International Airport',\n",
              "       'Northwest Arkansas Regional Airport',\n",
              "       'City of Colorado Springs Municipal Airport',\n",
              "       'Gunnison-Crested Butte Regional Airport',\n",
              "       'Kalamazoo/Battle Creek International Airport',\n",
              "       'Cherry Capital Airport', 'Yeager Airport', 'McGhee Tyson Airport',\n",
              "       'Savannah/Hilton Head International Airport',\n",
              "       'Wichita Dwight D. Eisenhower National Airport\\xa0(Wichita Mid-Continent Airport)',\n",
              "       'Grand Junction Regional Airport\\xa0(Walker Field)',\n",
              "       'General Wayne A. Downing Peoria International Airport',\n",
              "       'Springfield-Branson National Airport',\n",
              "       'Dane County Regional Airport', 'The Eastern Iowa Airport',\n",
              "       'Quad City International Airport',\n",
              "       'Durango-La Plata County Airport',\n",
              "       'Charleston International Airport/Charleston AFB',\n",
              "       'Des Moines International Airport',\n",
              "       'Appleton International Airport',\n",
              "       'Green Bay-Austin Straubel International Airport',\n",
              "       'Fort Wayne International Airport',\n",
              "       'James M. Cox Dayton International Airport',\n",
              "       'Lincoln Airport\\xa0(Lincoln Municipal)',\n",
              "       'Glacier Park International Airport',\n",
              "       'Idaho Falls Regional Airport', 'Huntsville International Airport',\n",
              "       'Central Wisconsin Airport', 'Rogue Valley International Airport',\n",
              "       'Tri-Cities Airport', 'Syracuse Hancock International Airport',\n",
              "       'Santa Barbara Municipal Airport\\xa0(Santa Barbara Airport)',\n",
              "       'Rapid City Regional Airport', 'Yuma International Airport',\n",
              "       'Redmond Municipal Airport\\xa0(Roberts Field)',\n",
              "       'Long Beach Airport\\xa0(Daugherty Field)',\n",
              "       'Montrose Regional Airport', 'Redding Municipal Airport',\n",
              "       'McClellan-Palomar Airport',\n",
              "       'South Bend International Airport\\xa0(South Bend Regional)',\n",
              "       'Westchester County Airport', 'Abraham Lincoln Capital Airport',\n",
              "       'MBS International Airport',\n",
              "       'Capital Region International Airport\\xa0( Lansing Capital City)',\n",
              "       'Magic Valley Regional Airport\\xa0(Joslin Field)',\n",
              "       'Monterey Regional Airport\\xa0(Monterey Peninsula Airport)',\n",
              "       'Santa Maria Public Airport\\xa0(Capt G. Allan Hancock Field)',\n",
              "       'Arcata Airport', 'Meadows Field',\n",
              "       'Del Norte County Airport\\xa0(Jack McNamara Field)',\n",
              "       'Elko Regional Airport', 'Pocatello Regional Airport',\n",
              "       'Natrona County International Airport', 'Bert Mooney Airport',\n",
              "       'Helena Regional Airport', 'Bellingham International Airport',\n",
              "       'Akron-Canton Regional Airport', 'Yellowstone Regional Airport',\n",
              "       'Lewiston-Nez Perce County Airport',\n",
              "       'Gerald R. Ford International Airport',\n",
              "       'Wilkes-Barre/Scranton International Airport',\n",
              "       'Lehigh Valley International Airport',\n",
              "       'Bismarck Municipal Airport',\n",
              "       'Greenville-Spartanburg International Airport',\n",
              "       'Cedar City Regional Airport',\n",
              "       'Central Illinois Regional Airport at Bloomington-Normal',\n",
              "       'Charlotte Douglas International Airport',\n",
              "       'Honolulu International Airport',\n",
              "       'Kona International Airport at Keahole', 'Kahului Airport',\n",
              "       'John F. Kennedy International Airport\\xa0(New York International Airport)',\n",
              "       'Lihue Airport', 'Harrisburg International Airport',\n",
              "       'LaGuardia Airport (Marine Air Terminal)',\n",
              "       'Richmond International Airport',\n",
              "       'Gen. Edward Lawrence Logan International Airport',\n",
              "       'Eagle County Regional Airport',\n",
              "       'Greater Rochester International Airport',\n",
              "       'Piedmont Triad International Airport',\n",
              "       'Ronald Reagan Washington National Airport',\n",
              "       'Luis Muñoz Marín International Airport', 'Cyril E. King Airport',\n",
              "       'Miami International Airport',\n",
              "       'Ted Stevens Anchorage International Airport',\n",
              "       'Myrtle Beach International Airport', 'Henry E. Rohlsen Airport',\n",
              "       'Wilmington International Airport',\n",
              "       'Destin-Fort Walton Beach Airport/Eglin AFB',\n",
              "       'Sarasota-Bradenton International Airport',\n",
              "       'Pensacola International Airport\\xa0(Pensacola Gulf Coast Regional Airport)',\n",
              "       'Daytona Beach International Airport',\n",
              "       'Columbia Metropolitan Airport',\n",
              "       'Gulfport-Biloxi International Airport',\n",
              "       'Melbourne International Airport',\n",
              "       'Newport News/Williamsburg International Airport',\n",
              "       'McAllen-Miller International Airport\\xa0(McAllen Miller International)',\n",
              "       'Shreveport Regional Airport', 'Montgomery Regional Airport',\n",
              "       'Chattanooga Metropolitan Airport\\xa0(Lovell Field)',\n",
              "       'Fayetteville Regional Airport',\n",
              "       'Augusta Regional Airport\\xa0(Bush Field)',\n",
              "       'Mobile Regional Airport', 'Baton Rouge Metropolitan Airport',\n",
              "       'Bangor International Airport', 'Gainesville Regional Airport',\n",
              "       'Southwest Georgia Regional Airport', 'Dothan Regional Airport',\n",
              "       'Asheville Regional Airport', 'Evansville Regional Airport',\n",
              "       'Bishop International Airport', 'Tri-Cities Regional Airport',\n",
              "       'Albert J. Ellis Airport', 'Alexandria International Airport',\n",
              "       'Stewart International Airport',\n",
              "       'Coastal Carolina Regional Airport\\xa0(Craven County Regional)',\n",
              "       'Meridian Regional Airport', 'Portland International Jetport',\n",
              "       'Killeen-Fort Hood Regional Airport',\n",
              "       'Golden Triangle Regional Airport', 'Lafayette Regional Airport',\n",
              "       'Key West International Airport', 'Valdosta Regional Airport',\n",
              "       'Columbus Metropolitan Airport', 'Monroe Regional Airport',\n",
              "       'Tallahassee International Airport',\n",
              "       'Atlantic City International Airport',\n",
              "       'Fort Smith Regional Airport', 'Charlottesville-Albemarle Airport',\n",
              "       'Toledo Express Airport', 'Brunswick Golden Isles Airport',\n",
              "       'University Park Airport', 'Hilo International Airport',\n",
              "       'Lawton-Fort Sill Regional Airport',\n",
              "       'Wichita Falls Municipal Airport/Sheppard AFB',\n",
              "       'Abilene Regional Airport', 'Easterwood Airport',\n",
              "       'Tyler Pounds Regional Airport', 'East Texas Regional Airport',\n",
              "       'Waco Regional Airport',\n",
              "       'San Angelo Regional Airport\\xa0(Mathis Field)',\n",
              "       'Texarkana Regional Airport\\xa0(Webb Field)',\n",
              "       'Laredo International Airport',\n",
              "       'University of Illinois - Willard Airport',\n",
              "       'Roswell International Air Center',\n",
              "       'Rochester International Airport', 'Sawyer International Airport',\n",
              "       'La Crosse Regional Airport', 'Dubuque Regional Airport',\n",
              "       'Ketchikan International Airport', 'Juneau International Airport',\n",
              "       'Sitka Rocky Gutierrez Airport',\n",
              "       'Petersburg James A. Johnson Airport',\n",
              "       'Merle K. (Mudhole) Smith Airport', 'Yakutat Airport',\n",
              "       'Bethel Airport', 'Wiley Post-Will Rogers Memorial Airport',\n",
              "       'Deadhorse Airport\\xa0(Prudhoe Bay Airport)',\n",
              "       'Fairbanks International Airport', 'Kodiak Airport',\n",
              "       'Wrangell Airport', 'Nome Airport', 'Ralph Wien Memorial Airport',\n",
              "       'Adak Airport', 'Mercedita Airport', 'Rafael Hernández Airport',\n",
              "       'Muskegon County Airport', 'Dillingham Airport',\n",
              "       'King Salmon Airport', 'Westerly State Airport'], dtype=object)"
            ]
          },
          "metadata": {},
          "execution_count": 12
        }
      ]
    },
    {
      "cell_type": "code",
      "source": [
        "len (f_d.Org_Airport.unique())"
      ],
      "metadata": {
        "colab": {
          "base_uri": "https://localhost:8080/"
        },
        "id": "NlwggBxiuCDm",
        "outputId": "4e47b771-6a3c-46a9-b113-6ad4989ec6fd"
      },
      "execution_count": 13,
      "outputs": [
        {
          "output_type": "execute_result",
          "data": {
            "text/plain": [
              "260"
            ]
          },
          "metadata": {},
          "execution_count": 13
        }
      ]
    },
    {
      "cell_type": "code",
      "source": [
        "f_d.Dest_Airport.unique()"
      ],
      "metadata": {
        "colab": {
          "base_uri": "https://localhost:8080/"
        },
        "id": "uRP_p4zbuOjV",
        "outputId": "632aa834-3962-4b3f-b853-2b226aa711ca"
      },
      "execution_count": 14,
      "outputs": [
        {
          "output_type": "execute_result",
          "data": {
            "text/plain": [
              "array(['Baltimore-Washington International Airport',\n",
              "       'McCarran International Airport', 'Orlando International Airport',\n",
              "       'Phoenix Sky Harbor International Airport',\n",
              "       'Tampa International Airport',\n",
              "       'Fort Lauderdale-Hollywood International Airport',\n",
              "       'Chicago Midway International Airport',\n",
              "       'Palm Beach International Airport', 'William P. Hobby Airport',\n",
              "       'Birmingham-Shuttlesworth International Airport',\n",
              "       'Nashville International Airport',\n",
              "       'Philadelphia International Airport',\n",
              "       'Albuquerque International Sunport',\n",
              "       'Albany International Airport',\n",
              "       'Rick Husband Amarillo International Airport',\n",
              "       'Austin-Bergstrom International Airport',\n",
              "       'Bradley International Airport',\n",
              "       'Boise Airport\\xa0(Boise Air Terminal)',\n",
              "       'Buffalo Niagara International Airport',\n",
              "       'Bob Hope Airport\\xa0(Hollywood Burbank Airport)',\n",
              "       'Port Columbus International Airport',\n",
              "       'Denver International Airport', 'El Paso International Airport',\n",
              "       'Spokane International Airport',\n",
              "       'Washington Dulles International Airport',\n",
              "       'Indianapolis International Airport',\n",
              "       'Long Island MacArthur Airport',\n",
              "       'Los Angeles International Airport',\n",
              "       'Lubbock Preston Smith International Airport',\n",
              "       'Midland International Airport',\n",
              "       'Kansas City International Airport',\n",
              "       'Louis Armstrong New Orleans International Airport',\n",
              "       'Oakland International Airport', 'Eppley Airfield',\n",
              "       'Ontario International Airport', 'Norfolk International Airport',\n",
              "       'Portland International Airport',\n",
              "       'Pittsburgh International Airport',\n",
              "       'Theodore Francis Green State Airport',\n",
              "       'Raleigh-Durham International Airport',\n",
              "       'Reno/Tahoe International Airport',\n",
              "       'San Diego International Airport\\xa0(Lindbergh Field)',\n",
              "       'San Antonio International Airport',\n",
              "       'Louisville International Airport\\xa0(Standiford Field)',\n",
              "       'San Francisco International Airport',\n",
              "       'Norman Y. Mineta San José International Airport',\n",
              "       'Salt Lake City International Airport',\n",
              "       'Sacramento International Airport',\n",
              "       'John Wayne Airport\\xa0(Orange County Airport)',\n",
              "       'St. Louis International Airport at Lambert Field',\n",
              "       'Tulsa International Airport', 'Tucson International Airport',\n",
              "       'Dallas Love Field', 'Will Rogers World Airport',\n",
              "       'Seattle-Tacoma International Airport',\n",
              "       'Cleveland Hopkins International Airport',\n",
              "       'Detroit Metropolitan Airport',\n",
              "       'Jackson-Evers International Airport',\n",
              "       'Manchester-Boston Regional Airport',\n",
              "       'Southwest Florida International Airport',\n",
              "       'Bill and Hillary Clinton National Airport\\xa0(Adams Field)',\n",
              "       'Jacksonville International Airport',\n",
              "       'Valley International Airport',\n",
              "       'Corpus Christi International Airport',\n",
              "       'Cincinnati/Northern Kentucky International Airport',\n",
              "       'Dallas/Fort Worth International Airport',\n",
              "       'Minneapolis-Saint Paul International Airport',\n",
              "       'Hartsfield-Jackson Atlanta International Airport',\n",
              "       'Greenville-Spartanburg International Airport',\n",
              "       \"Chicago O'Hare International Airport\",\n",
              "       'General Mitchell International Airport',\n",
              "       'Dane County Regional Airport',\n",
              "       'Newark Liberty International Airport',\n",
              "       'Friedman Memorial Airport', 'St. George Regional Airport',\n",
              "       'Magic Valley Regional Airport\\xa0(Joslin Field)',\n",
              "       'Santa Barbara Municipal Airport\\xa0(Santa Barbara Airport)',\n",
              "       'Idaho Falls Regional Airport',\n",
              "       'Bozeman Yellowstone International Airport\\xa0(Gallatin Field Airport)',\n",
              "       'Rapid City Regional Airport', nan,\n",
              "       'Missoula International Airport',\n",
              "       'Billings Logan International Airport',\n",
              "       'Palm Springs International Airport',\n",
              "       'Long Beach Airport\\xa0(Daugherty Field)',\n",
              "       'City of Colorado Springs Municipal Airport',\n",
              "       'Great Falls International Airport',\n",
              "       'Memphis International Airport', 'Jackson Hole Airport',\n",
              "       'Aspen-Pitkin County Airport',\n",
              "       'Glacier Park International Airport', 'Tri-Cities Airport',\n",
              "       'Arcata Airport', 'Redding Municipal Airport',\n",
              "       'Fresno Yosemite International Airport',\n",
              "       'Eugene Airport\\xa0(Mahlon Sweet Field)', 'Blue Grass Airport',\n",
              "       'Burlington International Airport',\n",
              "       'Roanoke Regional Airport\\xa0(Woodrum Field)',\n",
              "       'Charleston International Airport/Charleston AFB',\n",
              "       'Sioux Falls Regional Airport',\n",
              "       'General Wayne A. Downing Peoria International Airport',\n",
              "       'Lincoln Airport\\xa0(Lincoln Municipal)',\n",
              "       'Gunnison-Crested Butte Regional Airport',\n",
              "       'Kalamazoo/Battle Creek International Airport',\n",
              "       'Cherry Capital Airport', 'George Bush Intercontinental Airport',\n",
              "       'Savannah/Hilton Head International Airport', 'Yeager Airport',\n",
              "       'Appleton International Airport', 'McGhee Tyson Airport',\n",
              "       'Wilkes-Barre/Scranton International Airport',\n",
              "       'Hector International Airport',\n",
              "       'Grand Junction Regional Airport\\xa0(Walker Field)',\n",
              "       'Lehigh Valley International Airport',\n",
              "       'Northwest Arkansas Regional Airport',\n",
              "       'Quad City International Airport',\n",
              "       'Gerald R. Ford International Airport',\n",
              "       'Des Moines International Airport',\n",
              "       'Green Bay-Austin Straubel International Airport',\n",
              "       'James M. Cox Dayton International Airport',\n",
              "       'Central Wisconsin Airport',\n",
              "       'Springfield-Branson National Airport',\n",
              "       'Bismarck Municipal Airport', 'Huntsville International Airport',\n",
              "       'Yampa Valley Airport\\xa0(Yampa Valley Regional)',\n",
              "       'Rogue Valley International Airport',\n",
              "       'Capital Region International Airport\\xa0( Lansing Capital City)',\n",
              "       'Syracuse Hancock International Airport',\n",
              "       'Yuma International Airport',\n",
              "       'San Luis Obispo County Regional Airport\\xa0(McChesney Field)',\n",
              "       'Redmond Municipal Airport\\xa0(Roberts Field)',\n",
              "       'Montrose Regional Airport',\n",
              "       'Monterey Regional Airport\\xa0(Monterey Peninsula Airport)',\n",
              "       'Meadows Field', 'The Eastern Iowa Airport',\n",
              "       'South Bend International Airport\\xa0(South Bend Regional)',\n",
              "       'Wichita Dwight D. Eisenhower National Airport\\xa0(Wichita Mid-Continent Airport)',\n",
              "       'Abraham Lincoln Capital Airport',\n",
              "       'Fort Wayne International Airport',\n",
              "       'Durango-La Plata County Airport', 'MBS International Airport',\n",
              "       'Pocatello Regional Airport',\n",
              "       'Santa Maria Public Airport\\xa0(Capt G. Allan Hancock Field)',\n",
              "       'Del Norte County Airport\\xa0(Jack McNamara Field)',\n",
              "       'Elko Regional Airport', 'McClellan-Palomar Airport',\n",
              "       'Natrona County International Airport', 'Helena Regional Airport',\n",
              "       'Bellingham International Airport', 'Bert Mooney Airport',\n",
              "       'Akron-Canton Regional Airport', 'Yellowstone Regional Airport',\n",
              "       'Charlotte Douglas International Airport',\n",
              "       'Cedar City Regional Airport',\n",
              "       'Central Illinois Regional Airport at Bloomington-Normal',\n",
              "       'Westchester County Airport', 'Lewiston-Nez Perce County Airport',\n",
              "       'Honolulu International Airport',\n",
              "       'Kona International Airport at Keahole', 'Kahului Airport',\n",
              "       'John F. Kennedy International Airport\\xa0(New York International Airport)',\n",
              "       'Lihue Airport',\n",
              "       'Gen. Edward Lawrence Logan International Airport',\n",
              "       'Richmond International Airport',\n",
              "       'Greater Rochester International Airport',\n",
              "       'Eagle County Regional Airport',\n",
              "       'Piedmont Triad International Airport',\n",
              "       'LaGuardia Airport (Marine Air Terminal)',\n",
              "       'Harrisburg International Airport',\n",
              "       'Ronald Reagan Washington National Airport',\n",
              "       'Cyril E. King Airport', 'Luis Muñoz Marín International Airport',\n",
              "       'Miami International Airport',\n",
              "       'Myrtle Beach International Airport',\n",
              "       'Ted Stevens Anchorage International Airport',\n",
              "       'Wilmington International Airport',\n",
              "       'Sarasota-Bradenton International Airport',\n",
              "       'Pensacola International Airport\\xa0(Pensacola Gulf Coast Regional Airport)',\n",
              "       'Columbia Metropolitan Airport', 'Melbourne International Airport',\n",
              "       'Mobile Regional Airport', 'Daytona Beach International Airport',\n",
              "       'Gulfport-Biloxi International Airport',\n",
              "       'Destin-Fort Walton Beach Airport/Eglin AFB',\n",
              "       'Tallahassee International Airport', 'Valdosta Regional Airport',\n",
              "       'Asheville Regional Airport', 'Baton Rouge Metropolitan Airport',\n",
              "       'Columbus Metropolitan Airport', 'Tri-Cities Regional Airport',\n",
              "       'Stewart International Airport', 'Brunswick Golden Isles Airport',\n",
              "       'Chattanooga Metropolitan Airport\\xa0(Lovell Field)',\n",
              "       'Meridian Regional Airport', 'Montgomery Regional Airport',\n",
              "       'Fayetteville Regional Airport',\n",
              "       'Coastal Carolina Regional Airport\\xa0(Craven County Regional)',\n",
              "       'University Park Airport', 'Lafayette Regional Airport',\n",
              "       'Dothan Regional Airport', 'Key West International Airport',\n",
              "       'Evansville Regional Airport', 'Shreveport Regional Airport',\n",
              "       'Gainesville Regional Airport',\n",
              "       'Newport News/Williamsburg International Airport',\n",
              "       'Bishop International Airport',\n",
              "       'Augusta Regional Airport\\xa0(Bush Field)',\n",
              "       'Portland International Jetport',\n",
              "       'Southwest Georgia Regional Airport',\n",
              "       'Alexandria International Airport',\n",
              "       'Charlottesville-Albemarle Airport', 'Albert J. Ellis Airport',\n",
              "       'McAllen-Miller International Airport\\xa0(McAllen Miller International)',\n",
              "       'Fort Smith Regional Airport',\n",
              "       'Killeen-Fort Hood Regional Airport', 'Monroe Regional Airport',\n",
              "       'Toledo Express Airport', 'Golden Triangle Regional Airport',\n",
              "       'Atlantic City International Airport',\n",
              "       'Bangor International Airport', 'Hilo International Airport',\n",
              "       'Lawton-Fort Sill Regional Airport',\n",
              "       'Tyler Pounds Regional Airport', 'Easterwood Airport',\n",
              "       'Abilene Regional Airport',\n",
              "       'Texarkana Regional Airport\\xa0(Webb Field)',\n",
              "       'Waco Regional Airport',\n",
              "       'Wichita Falls Municipal Airport/Sheppard AFB',\n",
              "       'San Angelo Regional Airport\\xa0(Mathis Field)',\n",
              "       'East Texas Regional Airport', 'Laredo International Airport',\n",
              "       'University of Illinois - Willard Airport',\n",
              "       'Roswell International Air Center', 'Sawyer International Airport',\n",
              "       'Rochester International Airport', 'La Crosse Regional Airport',\n",
              "       'Dubuque Regional Airport', 'Henry E. Rohlsen Airport',\n",
              "       'Sitka Rocky Gutierrez Airport', 'Juneau International Airport',\n",
              "       'Merle K. (Mudhole) Smith Airport',\n",
              "       'Petersburg James A. Johnson Airport', 'Yakutat Airport',\n",
              "       'Ketchikan International Airport',\n",
              "       'Fairbanks International Airport',\n",
              "       'Wiley Post-Will Rogers Memorial Airport',\n",
              "       'Ralph Wien Memorial Airport', 'Bethel Airport', 'Kodiak Airport',\n",
              "       'Wrangell Airport', 'Deadhorse Airport\\xa0(Prudhoe Bay Airport)',\n",
              "       'Nome Airport', 'Adak Airport', 'Mercedita Airport',\n",
              "       'Rafael Hernández Airport', 'Muskegon County Airport',\n",
              "       'Dillingham Airport', 'King Salmon Airport',\n",
              "       'Westerly State Airport'], dtype=object)"
            ]
          },
          "metadata": {},
          "execution_count": 14
        }
      ]
    },
    {
      "cell_type": "code",
      "source": [
        "len(f_d.Dest_Airport.unique())"
      ],
      "metadata": {
        "colab": {
          "base_uri": "https://localhost:8080/"
        },
        "id": "37TBWSe9uWRa",
        "outputId": "f7718cd2-3a4d-4524-9233-51bc204e9fb7"
      },
      "execution_count": 15,
      "outputs": [
        {
          "output_type": "execute_result",
          "data": {
            "text/plain": [
              "260"
            ]
          },
          "metadata": {},
          "execution_count": 15
        }
      ]
    },
    {
      "cell_type": "code",
      "source": [
        "al01"
      ],
      "metadata": {
        "colab": {
          "base_uri": "https://localhost:8080/"
        },
        "id": "iX2QO84uuaG_",
        "outputId": "70ecc6db-d292-4355-d023-5cdd58b9f539"
      },
      "execution_count": 16,
      "outputs": [
        {
          "output_type": "execute_result",
          "data": {
            "text/plain": [
              "119048"
            ]
          },
          "metadata": {},
          "execution_count": 16
        }
      ]
    },
    {
      "cell_type": "code",
      "source": [
        ""
      ],
      "metadata": {
        "id": "GGb9s6NtvC1s"
      },
      "execution_count": null,
      "outputs": []
    }
  ]
}