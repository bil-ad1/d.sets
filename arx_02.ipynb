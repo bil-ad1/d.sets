{
  "nbformat": 4,
  "nbformat_minor": 0,
  "metadata": {
    "colab": {
      "name": "arx_02.ipynb",
      "provenance": [],
      "collapsed_sections": []
    },
    "kernelspec": {
      "name": "python3",
      "display_name": "Python 3"
    },
    "language_info": {
      "name": "python"
    }
  },
  "cells": [
    {
      "cell_type": "code",
      "execution_count": 1,
      "metadata": {
        "id": "IY4adN91KVsP"
      },
      "outputs": [],
      "source": [
        "import numpy as np\n",
        "import pandas as pd\n",
        "import matplotlib.pyplot as pp"
      ]
    },
    {
      "cell_type": "code",
      "source": [
        "arz= pd.read_csv(\"/content/drive/MyDrive/d.sets/Airlines.csv\")"
      ],
      "metadata": {
        "id": "8s3gGZOqKbcg"
      },
      "execution_count": 2,
      "outputs": []
    },
    {
      "cell_type": "code",
      "source": [
        "jfk1 = len ( arz.AirportTo[(arz.AirportTo=='JFK')&(arz.Delay==1)] )"
      ],
      "metadata": {
        "id": "hCnGC_sBKm5g"
      },
      "execution_count": 3,
      "outputs": []
    },
    {
      "cell_type": "code",
      "source": [
        "lga1 = len ( arz.AirportTo[(arz.AirportTo=='LGA')&(arz.Delay==1)] )"
      ],
      "metadata": {
        "id": "GB95yhY4LNN3"
      },
      "execution_count": 4,
      "outputs": []
    },
    {
      "cell_type": "code",
      "source": [
        "ny1 = jfk1,lga1\n",
        "pp.title(\"Dalay in N.Y.\")\n",
        "pp.pie(ny1,labels=['JFK','LGA'])"
      ],
      "metadata": {
        "colab": {
          "base_uri": "https://localhost:8080/",
          "height": 333
        },
        "id": "t9ZA049jLblC",
        "outputId": "fe9d3ca0-3cd0-44b5-e0fa-95b08cdd6c29"
      },
      "execution_count": 5,
      "outputs": [
        {
          "output_type": "execute_result",
          "data": {
            "text/plain": [
              "([<matplotlib.patches.Wedge at 0x7f9330751950>,\n",
              "  <matplotlib.patches.Wedge at 0x7f9330751e50>],\n",
              " [Text(-0.058232652255055, 1.098457535916315, 'JFK'),\n",
              "  Text(0.058232755100071906, -1.0984575304641757, 'LGA')])"
            ]
          },
          "metadata": {},
          "execution_count": 5
        },
        {
          "output_type": "display_data",
          "data": {
            "text/plain": [
              "<Figure size 432x288 with 1 Axes>"
            ],
            "image/png": "[encoded data removed]"
          },
          "metadata": {}
        }
      ]
    },
    {
      "cell_type": "code",
      "source": [
        "pp.title('Dealys in N.Y.')\n",
        "pp.bar('JFK',jfk1)\n",
        "pp.bar('LGA',lga1)"
      ],
      "metadata": {
        "colab": {
          "base_uri": "https://localhost:8080/",
          "height": 298
        },
        "id": "vsdMARlJL95x",
        "outputId": "38ec5548-d558-4e1b-e033-3695ba7d0803"
      },
      "execution_count": 6,
      "outputs": [
        {
          "output_type": "execute_result",
          "data": {
            "text/plain": [
              "<BarContainer object of 1 artists>"
            ]
          },
          "metadata": {},
          "execution_count": 6
        },
        {
          "output_type": "display_data",
          "data": {
            "text/plain": [
              "<Figure size 432x288 with 1 Axes>"
            ],
            "image/png": "[encoded data removed]"
          },
          "metadata": {
            "needs_background": "light"
          }
        }
      ]
    },
    {
      "cell_type": "code",
      "source": [
        "jfk2 = len ( arz.AirportTo[(arz.AirportTo=='JFK')&(arz.Delay==0)] )\n",
        "lga2 = len ( arz.AirportTo[(arz.AirportTo=='LGA')&(arz.Delay==0)] )"
      ],
      "metadata": {
        "id": "G_VY5YhdMLtN"
      },
      "execution_count": 7,
      "outputs": []
    },
    {
      "cell_type": "code",
      "source": [
        "pp.title('OT vs D.')\n",
        "pp.bar('D:0',jfk2)\n",
        "pp.bar('D:1',jfk1)"
      ],
      "metadata": {
        "colab": {
          "base_uri": "https://localhost:8080/",
          "height": 298
        },
        "id": "g25KiGiXNCHi",
        "outputId": "9355d86c-3b6d-4bb7-e7eb-70ccc2294ae7"
      },
      "execution_count": 8,
      "outputs": [
        {
          "output_type": "execute_result",
          "data": {
            "text/plain": [
              "<BarContainer object of 1 artists>"
            ]
          },
          "metadata": {},
          "execution_count": 8
        },
        {
          "output_type": "display_data",
          "data": {
            "text/plain": [
              "<Figure size 432x288 with 1 Axes>"
            ],
            "image/png": "[encoded data removed]"
          },
          "metadata": {
            "needs_background": "light"
          }
        }
      ]
    },
    {
      "cell_type": "code",
      "source": [
        "pyi1 = jfk2,jfk1\n",
        "pp.title('OT vs D.')\n",
        "pp.pie(pyi1,labels=['D:0','D:1'])"
      ],
      "metadata": {
        "colab": {
          "base_uri": "https://localhost:8080/",
          "height": 333
        },
        "id": "V8j5U-RzNVH2",
        "outputId": "34d4a023-cec3-42c5-f899-e32b39c4f726"
      },
      "execution_count": 9,
      "outputs": [
        {
          "output_type": "execute_result",
          "data": {
            "text/plain": [
              "([<matplotlib.patches.Wedge at 0x7f93301ef490>,\n",
              "  <matplotlib.patches.Wedge at 0x7f93301ef790>],\n",
              " [Text(-0.41142937024329623, 1.020159729307722, 'D:0'),\n",
              "  Text(0.41142927472904695, -1.0201597678285155, 'D:1')])"
            ]
          },
          "metadata": {},
          "execution_count": 9
        },
        {
          "output_type": "display_data",
          "data": {
            "text/plain": [
              "<Figure size 432x288 with 1 Axes>"
            ],
            "image/png": "[encoded data removed]"
          },
          "metadata": {}
        }
      ]
    },
    {
      "cell_type": "code",
      "source": [
        "pp.title('OT vs D.')\n",
        "pp.bar('D:0',lga2)\n",
        "pp.bar('D:1',lga1)"
      ],
      "metadata": {
        "colab": {
          "base_uri": "https://localhost:8080/",
          "height": 298
        },
        "id": "yJJuK20nNwQP",
        "outputId": "6f3262eb-b85e-4c11-bb02-55c40dee5586"
      },
      "execution_count": 10,
      "outputs": [
        {
          "output_type": "execute_result",
          "data": {
            "text/plain": [
              "<BarContainer object of 1 artists>"
            ]
          },
          "metadata": {},
          "execution_count": 10
        },
        {
          "output_type": "display_data",
          "data": {
            "text/plain": [
              "<Figure size 432x288 with 1 Axes>"
            ],
            "image/png": "[encoded data removed]"
          },
          "metadata": {
            "needs_background": "light"
          }
        }
      ]
    },
    {
      "cell_type": "code",
      "source": [
        "pyi2 = lga2,lga1\n",
        "pp.title('OT vs D.')\n",
        "pp.pie(pyi2,labels=['D:0','D:1'])"
      ],
      "metadata": {
        "colab": {
          "base_uri": "https://localhost:8080/",
          "height": 333
        },
        "id": "o_szssV-OB-C",
        "outputId": "627ee9d0-0de0-4484-c8a5-aaa4b4fc3aa0"
      },
      "execution_count": 11,
      "outputs": [
        {
          "output_type": "execute_result",
          "data": {
            "text/plain": [
              "([<matplotlib.patches.Wedge at 0x7f933010ef90>,\n",
              "  <matplotlib.patches.Wedge at 0x7f933011d2d0>],\n",
              " [Text(-0.3654184217528324, 1.037530422225618, 'D:0'),\n",
              "  Text(0.3654185188934392, -1.0375303880126718, 'D:1')])"
            ]
          },
          "metadata": {},
          "execution_count": 11
        },
        {
          "output_type": "display_data",
          "data": {
            "text/plain": [
              "<Figure size 432x288 with 1 Axes>"
            ],
            "image/png": "[encoded data removed]"
          },
          "metadata": {}
        }
      ]
    },
    {
      "cell_type": "code",
      "source": [
        "jfk3 = len ( arz.AirportFrom[(arz.AirportFrom=='JFK')&(arz.Delay==1)] )\n",
        "lga3 = len ( arz.AirportFrom[(arz.AirportFrom=='LGA')&(arz.Delay==1)] )"
      ],
      "metadata": {
        "id": "C9YDMephOLKd"
      },
      "execution_count": 12,
      "outputs": []
    },
    {
      "cell_type": "code",
      "source": [
        "pp.title('Dealys in N.Y.')\n",
        "pp.bar('JFK',jfk3)\n",
        "pp.bar('LGA',lga3)"
      ],
      "metadata": {
        "colab": {
          "base_uri": "https://localhost:8080/",
          "height": 298
        },
        "id": "inJDyNEFOyIA",
        "outputId": "1de61392-2c1f-40a5-d82b-4677eef51f72"
      },
      "execution_count": 13,
      "outputs": [
        {
          "output_type": "execute_result",
          "data": {
            "text/plain": [
              "<BarContainer object of 1 artists>"
            ]
          },
          "metadata": {},
          "execution_count": 13
        },
        {
          "output_type": "display_data",
          "data": {
            "text/plain": [
              "<Figure size 432x288 with 1 Axes>"
            ],
            "image/png": "[encoded data removed]"
          },
          "metadata": {
            "needs_background": "light"
          }
        }
      ]
    },
    {
      "cell_type": "code",
      "source": [
        "jfk4 = len ( arz.AirportFrom[(arz.AirportFrom=='JFK')&(arz.Delay==0)] )\n",
        "lga4 = len ( arz.AirportFrom[(arz.AirportFrom=='LGA')&(arz.Delay==0)] )"
      ],
      "metadata": {
        "id": "IPEky216PCLO"
      },
      "execution_count": 14,
      "outputs": []
    },
    {
      "cell_type": "code",
      "source": [
        "pp.title('Dealys in N.Y.')\n",
        "pp.bar('JFK',jfk4)\n",
        "pp.bar('LGA',lga4)"
      ],
      "metadata": {
        "colab": {
          "base_uri": "https://localhost:8080/",
          "height": 298
        },
        "id": "reK0a0ikPlDP",
        "outputId": "794fd0ac-979b-4d9d-e3c3-1115dc427339"
      },
      "execution_count": 15,
      "outputs": [
        {
          "output_type": "execute_result",
          "data": {
            "text/plain": [
              "<BarContainer object of 1 artists>"
            ]
          },
          "metadata": {},
          "execution_count": 15
        },
        {
          "output_type": "display_data",
          "data": {
            "text/plain": [
              "<Figure size 432x288 with 1 Axes>"
            ],
            "image/png": "[encoded data removed]"
          },
          "metadata": {
            "needs_background": "light"
          }
        }
      ]
    },
    {
      "cell_type": "code",
      "source": [
        "pyi3= jfk1,jfk3\n",
        "pp.title('Dp vs Ar')\n",
        "pp.pie(pyi3,labels=['D-D','A-D'])"
      ],
      "metadata": {
        "colab": {
          "base_uri": "https://localhost:8080/",
          "height": 333
        },
        "id": "tfTiiF7qPqEd",
        "outputId": "3b4bb414-32e4-4511-d470-731f28198019"
      },
      "execution_count": 16,
      "outputs": [
        {
          "output_type": "execute_result",
          "data": {
            "text/plain": [
              "([<matplotlib.patches.Wedge at 0x7f9330025950>,\n",
              "  <matplotlib.patches.Wedge at 0x7f9330025c50>],\n",
              " [Text(0.07986861234941224, 1.097096625079751, 'D-D'),\n",
              "  Text(-0.07986861234941238, -1.097096625079751, 'A-D')])"
            ]
          },
          "metadata": {},
          "execution_count": 16
        },
        {
          "output_type": "display_data",
          "data": {
            "text/plain": [
              "<Figure size 432x288 with 1 Axes>"
            ],
            "image/png": "[encoded data removed]"
          },
          "metadata": {}
        }
      ]
    },
    {
      "cell_type": "code",
      "source": [
        "pp.title('Dp vs Ar')\n",
        "pp.bar('D-D',jfk1)\n",
        "pp.bar('A-D',jfk3)"
      ],
      "metadata": {
        "colab": {
          "base_uri": "https://localhost:8080/",
          "height": 298
        },
        "id": "9SpgVqdWRIVD",
        "outputId": "42489fc4-7489-49cf-cad6-1988ac6545e2"
      },
      "execution_count": 17,
      "outputs": [
        {
          "output_type": "execute_result",
          "data": {
            "text/plain": [
              "<BarContainer object of 1 artists>"
            ]
          },
          "metadata": {},
          "execution_count": 17
        },
        {
          "output_type": "display_data",
          "data": {
            "text/plain": [
              "<Figure size 432x288 with 1 Axes>"
            ],
            "image/png": "[encoded data removed]"
          },
          "metadata": {
            "needs_background": "light"
          }
        }
      ]
    },
    {
      "cell_type": "code",
      "source": [
        "pyi4= lga1,lga3\n",
        "pp.title('Dp vs Ar')\n",
        "pp.pie(pyi4,labels=['D-D','A-D'])"
      ],
      "metadata": {
        "colab": {
          "base_uri": "https://localhost:8080/",
          "height": 333
        },
        "id": "PFjXcC55QTwN",
        "outputId": "66f71dbc-8440-4219-a41f-69d4d273a5f5"
      },
      "execution_count": 18,
      "outputs": [
        {
          "output_type": "execute_result",
          "data": {
            "text/plain": [
              "([<matplotlib.patches.Wedge at 0x7f932ff5fb90>,\n",
              "  <matplotlib.patches.Wedge at 0x7f932ff5fed0>],\n",
              " [Text(-0.08621066999307887, 1.0966164873734776, 'D-D'),\n",
              "  Text(0.086210772665724, -1.0966164793018474, 'A-D')])"
            ]
          },
          "metadata": {},
          "execution_count": 18
        },
        {
          "output_type": "display_data",
          "data": {
            "text/plain": [
              "<Figure size 432x288 with 1 Axes>"
            ],
            "image/png": "[encoded data removed]"
          },
          "metadata": {}
        }
      ]
    },
    {
      "cell_type": "code",
      "source": [
        "pp.title('Dp vs Ar')\n",
        "pp.bar('D-D',lga1)\n",
        "pp.bar('A-D',lga3)"
      ],
      "metadata": {
        "colab": {
          "base_uri": "https://localhost:8080/",
          "height": 298
        },
        "id": "bc9v0bmqRuEN",
        "outputId": "f1650791-0f66-4c21-a98c-14491bbc5947"
      },
      "execution_count": 19,
      "outputs": [
        {
          "output_type": "execute_result",
          "data": {
            "text/plain": [
              "<BarContainer object of 1 artists>"
            ]
          },
          "metadata": {},
          "execution_count": 19
        },
        {
          "output_type": "display_data",
          "data": {
            "text/plain": [
              "<Figure size 432x288 with 1 Axes>"
            ],
            "image/png": "[encoded data removed]"
          },
          "metadata": {
            "needs_background": "light"
          }
        }
      ]
    }
  ]
}